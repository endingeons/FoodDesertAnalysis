{
 "cells": [
  {
   "cell_type": "code",
   "execution_count": 1,
   "id": "43a900be",
   "metadata": {},
   "outputs": [],
   "source": [
    "from createFeatures import *\n",
    "import pandas as pd\n",
    "import numpy as np\n",
    "from sklearn.model_selection import train_test_split\n",
    "from sklearn import metrics"
   ]
  },
  {
   "cell_type": "code",
   "execution_count": 2,
   "id": "4fb4fefb",
   "metadata": {},
   "outputs": [
    {
     "name": "stdout",
     "output_type": "stream",
     "text": [
      "MySQL Database connection successful\n",
      "Fetch all successful\n",
      "Fetch all successful\n",
      "\tClosed connection\n"
     ]
    },
    {
     "data": {
      "text/html": [
       "<div>\n",
       "<style scoped>\n",
       "    .dataframe tbody tr th:only-of-type {\n",
       "        vertical-align: middle;\n",
       "    }\n",
       "\n",
       "    .dataframe tbody tr th {\n",
       "        vertical-align: top;\n",
       "    }\n",
       "\n",
       "    .dataframe thead th {\n",
       "        text-align: right;\n",
       "    }\n",
       "</style>\n",
       "<table border=\"1\" class=\"dataframe\">\n",
       "  <thead>\n",
       "    <tr style=\"text-align: right;\">\n",
       "      <th></th>\n",
       "      <th>census_tract_id</th>\n",
       "      <th>LILATract_1And10</th>\n",
       "      <th>state</th>\n",
       "      <th>county</th>\n",
       "      <th>num_restaurants</th>\n",
       "      <th>min_calories</th>\n",
       "      <th>max_calories</th>\n",
       "      <th>mean_calories</th>\n",
       "      <th>min_protein</th>\n",
       "      <th>max_protein</th>\n",
       "      <th>...</th>\n",
       "      <th>mean_carbs</th>\n",
       "      <th>num_price_level_1</th>\n",
       "      <th>num_price_level_2</th>\n",
       "      <th>num_price_level_3</th>\n",
       "      <th>num_price_level_4</th>\n",
       "      <th>num_rating_less_2</th>\n",
       "      <th>num_rating_2_to_4</th>\n",
       "      <th>num_rating_great_4</th>\n",
       "      <th>avg_rating_total</th>\n",
       "      <th>total_ratings_count</th>\n",
       "    </tr>\n",
       "  </thead>\n",
       "  <tbody>\n",
       "    <tr>\n",
       "      <th>0</th>\n",
       "      <td>34001000200</td>\n",
       "      <td>0</td>\n",
       "      <td>New Jersey</td>\n",
       "      <td>Atlantic County</td>\n",
       "      <td>28</td>\n",
       "      <td>350.00</td>\n",
       "      <td>509.67</td>\n",
       "      <td>402.609286</td>\n",
       "      <td>14.00</td>\n",
       "      <td>22.86</td>\n",
       "      <td>...</td>\n",
       "      <td>33.872500</td>\n",
       "      <td>9</td>\n",
       "      <td>13</td>\n",
       "      <td>5</td>\n",
       "      <td>1</td>\n",
       "      <td>0</td>\n",
       "      <td>28</td>\n",
       "      <td>19</td>\n",
       "      <td>4.210714</td>\n",
       "      <td>17654.0</td>\n",
       "    </tr>\n",
       "    <tr>\n",
       "      <th>1</th>\n",
       "      <td>34001000300</td>\n",
       "      <td>0</td>\n",
       "      <td>New Jersey</td>\n",
       "      <td>Atlantic County</td>\n",
       "      <td>31</td>\n",
       "      <td>271.38</td>\n",
       "      <td>509.67</td>\n",
       "      <td>400.042903</td>\n",
       "      <td>10.75</td>\n",
       "      <td>22.86</td>\n",
       "      <td>...</td>\n",
       "      <td>33.805484</td>\n",
       "      <td>10</td>\n",
       "      <td>14</td>\n",
       "      <td>5</td>\n",
       "      <td>2</td>\n",
       "      <td>0</td>\n",
       "      <td>31</td>\n",
       "      <td>22</td>\n",
       "      <td>4.203226</td>\n",
       "      <td>40403.0</td>\n",
       "    </tr>\n",
       "    <tr>\n",
       "      <th>2</th>\n",
       "      <td>34001001100</td>\n",
       "      <td>0</td>\n",
       "      <td>New Jersey</td>\n",
       "      <td>Atlantic County</td>\n",
       "      <td>27</td>\n",
       "      <td>174.50</td>\n",
       "      <td>477.00</td>\n",
       "      <td>372.790370</td>\n",
       "      <td>3.50</td>\n",
       "      <td>23.11</td>\n",
       "      <td>...</td>\n",
       "      <td>33.227778</td>\n",
       "      <td>12</td>\n",
       "      <td>8</td>\n",
       "      <td>5</td>\n",
       "      <td>2</td>\n",
       "      <td>0</td>\n",
       "      <td>27</td>\n",
       "      <td>21</td>\n",
       "      <td>4.211111</td>\n",
       "      <td>50402.0</td>\n",
       "    </tr>\n",
       "    <tr>\n",
       "      <th>3</th>\n",
       "      <td>34001001200</td>\n",
       "      <td>0</td>\n",
       "      <td>New Jersey</td>\n",
       "      <td>Atlantic County</td>\n",
       "      <td>26</td>\n",
       "      <td>153.00</td>\n",
       "      <td>478.40</td>\n",
       "      <td>380.088846</td>\n",
       "      <td>3.00</td>\n",
       "      <td>24.60</td>\n",
       "      <td>...</td>\n",
       "      <td>32.425769</td>\n",
       "      <td>9</td>\n",
       "      <td>10</td>\n",
       "      <td>4</td>\n",
       "      <td>3</td>\n",
       "      <td>0</td>\n",
       "      <td>26</td>\n",
       "      <td>17</td>\n",
       "      <td>4.126923</td>\n",
       "      <td>36480.0</td>\n",
       "    </tr>\n",
       "    <tr>\n",
       "      <th>4</th>\n",
       "      <td>34001001400</td>\n",
       "      <td>0</td>\n",
       "      <td>New Jersey</td>\n",
       "      <td>Atlantic County</td>\n",
       "      <td>15</td>\n",
       "      <td>358.40</td>\n",
       "      <td>483.00</td>\n",
       "      <td>403.232667</td>\n",
       "      <td>11.70</td>\n",
       "      <td>27.29</td>\n",
       "      <td>...</td>\n",
       "      <td>30.140667</td>\n",
       "      <td>1</td>\n",
       "      <td>7</td>\n",
       "      <td>6</td>\n",
       "      <td>1</td>\n",
       "      <td>0</td>\n",
       "      <td>15</td>\n",
       "      <td>8</td>\n",
       "      <td>4.113333</td>\n",
       "      <td>13785.0</td>\n",
       "    </tr>\n",
       "    <tr>\n",
       "      <th>...</th>\n",
       "      <td>...</td>\n",
       "      <td>...</td>\n",
       "      <td>...</td>\n",
       "      <td>...</td>\n",
       "      <td>...</td>\n",
       "      <td>...</td>\n",
       "      <td>...</td>\n",
       "      <td>...</td>\n",
       "      <td>...</td>\n",
       "      <td>...</td>\n",
       "      <td>...</td>\n",
       "      <td>...</td>\n",
       "      <td>...</td>\n",
       "      <td>...</td>\n",
       "      <td>...</td>\n",
       "      <td>...</td>\n",
       "      <td>...</td>\n",
       "      <td>...</td>\n",
       "      <td>...</td>\n",
       "      <td>...</td>\n",
       "      <td>...</td>\n",
       "    </tr>\n",
       "    <tr>\n",
       "      <th>65</th>\n",
       "      <td>34007602902</td>\n",
       "      <td>0</td>\n",
       "      <td>New Jersey</td>\n",
       "      <td>Camden County</td>\n",
       "      <td>15</td>\n",
       "      <td>236.00</td>\n",
       "      <td>438.56</td>\n",
       "      <td>355.130667</td>\n",
       "      <td>6.00</td>\n",
       "      <td>20.44</td>\n",
       "      <td>...</td>\n",
       "      <td>34.642667</td>\n",
       "      <td>12</td>\n",
       "      <td>3</td>\n",
       "      <td>0</td>\n",
       "      <td>0</td>\n",
       "      <td>0</td>\n",
       "      <td>15</td>\n",
       "      <td>9</td>\n",
       "      <td>4.166667</td>\n",
       "      <td>5630.0</td>\n",
       "    </tr>\n",
       "    <tr>\n",
       "      <th>66</th>\n",
       "      <td>34007603001</td>\n",
       "      <td>0</td>\n",
       "      <td>New Jersey</td>\n",
       "      <td>Camden County</td>\n",
       "      <td>30</td>\n",
       "      <td>236.00</td>\n",
       "      <td>557.67</td>\n",
       "      <td>378.801333</td>\n",
       "      <td>6.00</td>\n",
       "      <td>24.89</td>\n",
       "      <td>...</td>\n",
       "      <td>34.410333</td>\n",
       "      <td>24</td>\n",
       "      <td>6</td>\n",
       "      <td>0</td>\n",
       "      <td>0</td>\n",
       "      <td>0</td>\n",
       "      <td>30</td>\n",
       "      <td>18</td>\n",
       "      <td>4.060000</td>\n",
       "      <td>10328.0</td>\n",
       "    </tr>\n",
       "    <tr>\n",
       "      <th>67</th>\n",
       "      <td>34007603002</td>\n",
       "      <td>0</td>\n",
       "      <td>New Jersey</td>\n",
       "      <td>Camden County</td>\n",
       "      <td>28</td>\n",
       "      <td>236.00</td>\n",
       "      <td>557.67</td>\n",
       "      <td>394.370357</td>\n",
       "      <td>6.00</td>\n",
       "      <td>26.00</td>\n",
       "      <td>...</td>\n",
       "      <td>34.313571</td>\n",
       "      <td>24</td>\n",
       "      <td>4</td>\n",
       "      <td>0</td>\n",
       "      <td>0</td>\n",
       "      <td>0</td>\n",
       "      <td>28</td>\n",
       "      <td>17</td>\n",
       "      <td>4.032143</td>\n",
       "      <td>10907.0</td>\n",
       "    </tr>\n",
       "    <tr>\n",
       "      <th>68</th>\n",
       "      <td>34007603100</td>\n",
       "      <td>0</td>\n",
       "      <td>New Jersey</td>\n",
       "      <td>Camden County</td>\n",
       "      <td>18</td>\n",
       "      <td>258.78</td>\n",
       "      <td>514.22</td>\n",
       "      <td>367.707222</td>\n",
       "      <td>7.50</td>\n",
       "      <td>24.89</td>\n",
       "      <td>...</td>\n",
       "      <td>34.932222</td>\n",
       "      <td>13</td>\n",
       "      <td>5</td>\n",
       "      <td>0</td>\n",
       "      <td>0</td>\n",
       "      <td>0</td>\n",
       "      <td>18</td>\n",
       "      <td>9</td>\n",
       "      <td>4.016667</td>\n",
       "      <td>8794.0</td>\n",
       "    </tr>\n",
       "    <tr>\n",
       "      <th>69</th>\n",
       "      <td>34007603200</td>\n",
       "      <td>0</td>\n",
       "      <td>New Jersey</td>\n",
       "      <td>Camden County</td>\n",
       "      <td>19</td>\n",
       "      <td>274.00</td>\n",
       "      <td>502.50</td>\n",
       "      <td>387.216842</td>\n",
       "      <td>6.00</td>\n",
       "      <td>24.50</td>\n",
       "      <td>...</td>\n",
       "      <td>34.232632</td>\n",
       "      <td>6</td>\n",
       "      <td>12</td>\n",
       "      <td>0</td>\n",
       "      <td>1</td>\n",
       "      <td>0</td>\n",
       "      <td>19</td>\n",
       "      <td>15</td>\n",
       "      <td>4.194737</td>\n",
       "      <td>34626.0</td>\n",
       "    </tr>\n",
       "  </tbody>\n",
       "</table>\n",
       "<p>70 rows × 26 columns</p>\n",
       "</div>"
      ],
      "text/plain": [
       "    census_tract_id  LILATract_1And10       state           county  \\\n",
       "0       34001000200                 0  New Jersey  Atlantic County   \n",
       "1       34001000300                 0  New Jersey  Atlantic County   \n",
       "2       34001001100                 0  New Jersey  Atlantic County   \n",
       "3       34001001200                 0  New Jersey  Atlantic County   \n",
       "4       34001001400                 0  New Jersey  Atlantic County   \n",
       "..              ...               ...         ...              ...   \n",
       "65      34007602902                 0  New Jersey    Camden County   \n",
       "66      34007603001                 0  New Jersey    Camden County   \n",
       "67      34007603002                 0  New Jersey    Camden County   \n",
       "68      34007603100                 0  New Jersey    Camden County   \n",
       "69      34007603200                 0  New Jersey    Camden County   \n",
       "\n",
       "    num_restaurants  min_calories  max_calories  mean_calories  min_protein  \\\n",
       "0                28        350.00        509.67     402.609286        14.00   \n",
       "1                31        271.38        509.67     400.042903        10.75   \n",
       "2                27        174.50        477.00     372.790370         3.50   \n",
       "3                26        153.00        478.40     380.088846         3.00   \n",
       "4                15        358.40        483.00     403.232667        11.70   \n",
       "..              ...           ...           ...            ...          ...   \n",
       "65               15        236.00        438.56     355.130667         6.00   \n",
       "66               30        236.00        557.67     378.801333         6.00   \n",
       "67               28        236.00        557.67     394.370357         6.00   \n",
       "68               18        258.78        514.22     367.707222         7.50   \n",
       "69               19        274.00        502.50     387.216842         6.00   \n",
       "\n",
       "    max_protein  ...  mean_carbs  num_price_level_1  num_price_level_2  \\\n",
       "0         22.86  ...   33.872500                  9                 13   \n",
       "1         22.86  ...   33.805484                 10                 14   \n",
       "2         23.11  ...   33.227778                 12                  8   \n",
       "3         24.60  ...   32.425769                  9                 10   \n",
       "4         27.29  ...   30.140667                  1                  7   \n",
       "..          ...  ...         ...                ...                ...   \n",
       "65        20.44  ...   34.642667                 12                  3   \n",
       "66        24.89  ...   34.410333                 24                  6   \n",
       "67        26.00  ...   34.313571                 24                  4   \n",
       "68        24.89  ...   34.932222                 13                  5   \n",
       "69        24.50  ...   34.232632                  6                 12   \n",
       "\n",
       "    num_price_level_3  num_price_level_4  num_rating_less_2  \\\n",
       "0                   5                  1                  0   \n",
       "1                   5                  2                  0   \n",
       "2                   5                  2                  0   \n",
       "3                   4                  3                  0   \n",
       "4                   6                  1                  0   \n",
       "..                ...                ...                ...   \n",
       "65                  0                  0                  0   \n",
       "66                  0                  0                  0   \n",
       "67                  0                  0                  0   \n",
       "68                  0                  0                  0   \n",
       "69                  0                  1                  0   \n",
       "\n",
       "    num_rating_2_to_4  num_rating_great_4  avg_rating_total  \\\n",
       "0                  28                  19          4.210714   \n",
       "1                  31                  22          4.203226   \n",
       "2                  27                  21          4.211111   \n",
       "3                  26                  17          4.126923   \n",
       "4                  15                   8          4.113333   \n",
       "..                ...                 ...               ...   \n",
       "65                 15                   9          4.166667   \n",
       "66                 30                  18          4.060000   \n",
       "67                 28                  17          4.032143   \n",
       "68                 18                   9          4.016667   \n",
       "69                 19                  15          4.194737   \n",
       "\n",
       "    total_ratings_count  \n",
       "0               17654.0  \n",
       "1               40403.0  \n",
       "2               50402.0  \n",
       "3               36480.0  \n",
       "4               13785.0  \n",
       "..                  ...  \n",
       "65               5630.0  \n",
       "66              10328.0  \n",
       "67              10907.0  \n",
       "68               8794.0  \n",
       "69              34626.0  \n",
       "\n",
       "[70 rows x 26 columns]"
      ]
     },
     "execution_count": 2,
     "metadata": {},
     "output_type": "execute_result"
    }
   ],
   "source": [
    "df = create_features()\n",
    "df"
   ]
  },
  {
   "cell_type": "code",
   "execution_count": 3,
   "id": "f2301730",
   "metadata": {},
   "outputs": [
    {
     "data": {
      "text/plain": [
       "Index(['census_tract_id', 'LILATract_1And10', 'state', 'county',\n",
       "       'num_restaurants', 'min_calories', 'max_calories', 'mean_calories',\n",
       "       'min_protein', 'max_protein', 'mean_protein', 'min_fat', 'max_fat',\n",
       "       'mean_fat', 'min_carbs', 'max_carbs', 'mean_carbs', 'num_price_level_1',\n",
       "       'num_price_level_2', 'num_price_level_3', 'num_price_level_4',\n",
       "       'num_rating_less_2', 'num_rating_2_to_4', 'num_rating_great_4',\n",
       "       'avg_rating_total', 'total_ratings_count'],\n",
       "      dtype='object')"
      ]
     },
     "execution_count": 3,
     "metadata": {},
     "output_type": "execute_result"
    }
   ],
   "source": [
    "df.keys()"
   ]
  },
  {
   "cell_type": "code",
   "execution_count": 193,
   "id": "4e134529",
   "metadata": {},
   "outputs": [],
   "source": [
    "target = 'LILATract_1And10'\n",
    "# features = ['num_restaurants', 'min_calories', 'max_calories', 'mean_calories',\n",
    "#        'min_protein', 'max_protein', 'mean_protein', 'min_fat', 'max_fat',\n",
    "#        'mean_fat', 'min_carbs', 'max_carbs', 'mean_carbs', 'num_price_level_1',\n",
    "#        'num_price_level_2', 'num_price_level_3', 'num_price_level_4',\n",
    "#        'num_rating_2_to_4', 'num_rating_great_4',\n",
    "#        'avg_rating_total', 'total_ratings_count']\n",
    "\n",
    "# features = ['num_restaurants', 'min_calories', 'max_calories', \n",
    "#        'min_protein', 'max_protein', 'min_fat', 'max_fat',\n",
    "#        'min_carbs', 'max_carbs', 'num_price_level_1',\n",
    "#        'num_price_level_2', 'num_price_level_3', 'num_price_level_4',\n",
    "#        'num_rating_2_to_4', 'num_rating_great_4', 'total_ratings_count']\n",
    "\n",
    "# 77%\n",
    "# features = ['min_protein', 'mean_protein', 'min_fat', 'mean_fat', 'min_carbs', 'max_carbs', 'mean_carbs', 'num_rating_2_to_4']\n",
    "features = ['min_protein', 'mean_protein', 'min_fat', 'mean_fat', 'num_rating_2_to_4']\n",
    "\n",
    "# Excluded feature: 'num_rating_less_2'\n",
    "\n",
    "X = df[features]\n",
    "y = df[target]"
   ]
  },
  {
   "cell_type": "markdown",
   "id": "7f91252e",
   "metadata": {},
   "source": [
    "# Training and Test Split\n",
    "- Clean up data\n",
    "- normalize variables\n",
    "- Do PCA if needed\n",
    "- stratify/cross validation if enough data points\n",
    "- handle imbalanced learning problem"
   ]
  },
  {
   "cell_type": "code",
   "execution_count": 194,
   "id": "a7fcfb50",
   "metadata": {},
   "outputs": [],
   "source": [
    "# https://www.statology.org/logistic-regression-python/\n",
    "# Training Test Split\n",
    "X_train,X_test,y_train,y_test = train_test_split(X,y,test_size=0.25,\n",
    "                                                 random_state=0,\n",
    "                                                 stratify=y)"
   ]
  },
  {
   "cell_type": "markdown",
   "id": "d034be45",
   "metadata": {},
   "source": [
    "## Normalize Data"
   ]
  },
  {
   "cell_type": "code",
   "execution_count": 195,
   "id": "65c27005",
   "metadata": {},
   "outputs": [],
   "source": [
    "from sklearn import preprocessing\n",
    "\n",
    "normalizer = preprocessing.Normalizer()\n",
    "\n",
    "# Normalize Training Data\n",
    "normalized_train_X = normalizer.fit_transform(X_train)\n",
    "\n",
    "# Normalize Test Data\n",
    "normalized_test_X = normalizer.transform(X_test)"
   ]
  },
  {
   "cell_type": "markdown",
   "id": "cb0281a0",
   "metadata": {},
   "source": [
    "## Imbalanced Learning"
   ]
  },
  {
   "cell_type": "code",
   "execution_count": 196,
   "id": "62cac16a",
   "metadata": {},
   "outputs": [],
   "source": [
    "# Imbalanced Learning, random oversampling minority class\n",
    "from imblearn.over_sampling import SMOTE\n",
    "sm = SMOTE(random_state=42)\n",
    "X_train_res, y_train_res = sm.fit_resample(normalized_train_X, y_train)"
   ]
  },
  {
   "cell_type": "code",
   "execution_count": 197,
   "id": "3658932a",
   "metadata": {},
   "outputs": [
    {
     "data": {
      "text/plain": [
       "<AxesSubplot:title={'center':'Before SMOTE'}>"
      ]
     },
     "execution_count": 197,
     "metadata": {},
     "output_type": "execute_result"
    },
    {
     "data": {
      "image/png": "[encoded data removed]",
      "text/plain": [
       "<Figure size 640x480 with 1 Axes>"
      ]
     },
     "metadata": {},
     "output_type": "display_data"
    }
   ],
   "source": [
    "y_train.value_counts().plot(kind='bar', title=\"Before SMOTE\")"
   ]
  },
  {
   "cell_type": "code",
   "execution_count": 198,
   "id": "41f26bb8",
   "metadata": {},
   "outputs": [
    {
     "data": {
      "text/plain": [
       "<AxesSubplot:title={'center':'After SMOTE'}>"
      ]
     },
     "execution_count": 198,
     "metadata": {},
     "output_type": "execute_result"
    },
    {
     "data": {
      "image/png": "[encoded data removed]",
      "text/plain": [
       "<Figure size 640x480 with 1 Axes>"
      ]
     },
     "metadata": {},
     "output_type": "display_data"
    }
   ],
   "source": [
    "y_train_res.value_counts().plot(kind='bar', title=\"After SMOTE\")"
   ]
  },
  {
   "cell_type": "markdown",
   "id": "effd45b8",
   "metadata": {},
   "source": [
    "# Train Model"
   ]
  },
  {
   "cell_type": "code",
   "execution_count": 199,
   "id": "c6a10d86",
   "metadata": {},
   "outputs": [],
   "source": [
    "from sklearn.linear_model import LogisticRegression\n",
    "from sklearn import svm \n",
    "from sklearn.ensemble import RandomForestClassifier\n",
    "\n",
    "# Train\n",
    "\n",
    "#instantiate the model\n",
    "clf = LogisticRegression()\n",
    "# clf = svm.SVC()\n",
    "# clf = RandomForestClassifier()"
   ]
  },
  {
   "cell_type": "markdown",
   "id": "0b397a9a",
   "metadata": {},
   "source": [
    "# Fit Model"
   ]
  },
  {
   "cell_type": "code",
   "execution_count": 200,
   "id": "fe817852",
   "metadata": {},
   "outputs": [
    {
     "data": {
      "text/html": [
       "<style>#sk-container-id-22 {color: black;background-color: white;}#sk-container-id-22 pre{padding: 0;}#sk-container-id-22 div.sk-toggleable {background-color: white;}#sk-container-id-22 label.sk-toggleable__label {cursor: pointer;display: block;width: 100%;margin-bottom: 0;padding: 0.3em;box-sizing: border-box;text-align: center;}#sk-container-id-22 label.sk-toggleable__label-arrow:before {content: \"▸\";float: left;margin-right: 0.25em;color: #696969;}#sk-container-id-22 label.sk-toggleable__label-arrow:hover:before {color: black;}#sk-container-id-22 div.sk-estimator:hover label.sk-toggleable__label-arrow:before {color: black;}#sk-container-id-22 div.sk-toggleable__content {max-height: 0;max-width: 0;overflow: hidden;text-align: left;background-color: #f0f8ff;}#sk-container-id-22 div.sk-toggleable__content pre {margin: 0.2em;color: black;border-radius: 0.25em;background-color: #f0f8ff;}#sk-container-id-22 input.sk-toggleable__control:checked~div.sk-toggleable__content {max-height: 200px;max-width: 100%;overflow: auto;}#sk-container-id-22 input.sk-toggleable__control:checked~label.sk-toggleable__label-arrow:before {content: \"▾\";}#sk-container-id-22 div.sk-estimator input.sk-toggleable__control:checked~label.sk-toggleable__label {background-color: #d4ebff;}#sk-container-id-22 div.sk-label input.sk-toggleable__control:checked~label.sk-toggleable__label {background-color: #d4ebff;}#sk-container-id-22 input.sk-hidden--visually {border: 0;clip: rect(1px 1px 1px 1px);clip: rect(1px, 1px, 1px, 1px);height: 1px;margin: -1px;overflow: hidden;padding: 0;position: absolute;width: 1px;}#sk-container-id-22 div.sk-estimator {font-family: monospace;background-color: #f0f8ff;border: 1px dotted black;border-radius: 0.25em;box-sizing: border-box;margin-bottom: 0.5em;}#sk-container-id-22 div.sk-estimator:hover {background-color: #d4ebff;}#sk-container-id-22 div.sk-parallel-item::after {content: \"\";width: 100%;border-bottom: 1px solid gray;flex-grow: 1;}#sk-container-id-22 div.sk-label:hover label.sk-toggleable__label {background-color: #d4ebff;}#sk-container-id-22 div.sk-serial::before {content: \"\";position: absolute;border-left: 1px solid gray;box-sizing: border-box;top: 0;bottom: 0;left: 50%;z-index: 0;}#sk-container-id-22 div.sk-serial {display: flex;flex-direction: column;align-items: center;background-color: white;padding-right: 0.2em;padding-left: 0.2em;position: relative;}#sk-container-id-22 div.sk-item {position: relative;z-index: 1;}#sk-container-id-22 div.sk-parallel {display: flex;align-items: stretch;justify-content: center;background-color: white;position: relative;}#sk-container-id-22 div.sk-item::before, #sk-container-id-22 div.sk-parallel-item::before {content: \"\";position: absolute;border-left: 1px solid gray;box-sizing: border-box;top: 0;bottom: 0;left: 50%;z-index: -1;}#sk-container-id-22 div.sk-parallel-item {display: flex;flex-direction: column;z-index: 1;position: relative;background-color: white;}#sk-container-id-22 div.sk-parallel-item:first-child::after {align-self: flex-end;width: 50%;}#sk-container-id-22 div.sk-parallel-item:last-child::after {align-self: flex-start;width: 50%;}#sk-container-id-22 div.sk-parallel-item:only-child::after {width: 0;}#sk-container-id-22 div.sk-dashed-wrapped {border: 1px dashed gray;margin: 0 0.4em 0.5em 0.4em;box-sizing: border-box;padding-bottom: 0.4em;background-color: white;}#sk-container-id-22 div.sk-label label {font-family: monospace;font-weight: bold;display: inline-block;line-height: 1.2em;}#sk-container-id-22 div.sk-label-container {text-align: center;}#sk-container-id-22 div.sk-container {/* jupyter's `normalize.less` sets `[hidden] { display: none; }` but bootstrap.min.css set `[hidden] { display: none !important; }` so we also need the `!important` here to be able to override the default hidden behavior on the sphinx rendered scikit-learn.org. See: https://github.com/scikit-learn/scikit-learn/issues/21755 */display: inline-block !important;position: relative;}#sk-container-id-22 div.sk-text-repr-fallback {display: none;}</style><div id=\"sk-container-id-22\" class=\"sk-top-container\"><div class=\"sk-text-repr-fallback\"><pre>LogisticRegression()</pre><b>In a Jupyter environment, please rerun this cell to show the HTML representation or trust the notebook. <br />On GitHub, the HTML representation is unable to render, please try loading this page with nbviewer.org.</b></div><div class=\"sk-container\" hidden><div class=\"sk-item\"><div class=\"sk-estimator sk-toggleable\"><input class=\"sk-toggleable__control sk-hidden--visually\" id=\"sk-estimator-id-22\" type=\"checkbox\" checked><label for=\"sk-estimator-id-22\" class=\"sk-toggleable__label sk-toggleable__label-arrow\">LogisticRegression</label><div class=\"sk-toggleable__content\"><pre>LogisticRegression()</pre></div></div></div></div></div>"
      ],
      "text/plain": [
       "LogisticRegression()"
      ]
     },
     "execution_count": 200,
     "metadata": {},
     "output_type": "execute_result"
    }
   ],
   "source": [
    "#fit the model using the training data\n",
    "clf.fit(X_train_res,y_train_res)"
   ]
  },
  {
   "cell_type": "markdown",
   "id": "e15aaa83",
   "metadata": {},
   "source": [
    "# Predict"
   ]
  },
  {
   "cell_type": "code",
   "execution_count": 201,
   "id": "1d0738e1",
   "metadata": {},
   "outputs": [],
   "source": [
    "# Predict\n",
    "\n",
    "#use model to make predictions on test data\n",
    "y_pred = clf.predict(normalized_test_X)"
   ]
  },
  {
   "cell_type": "markdown",
   "id": "785c7b99",
   "metadata": {},
   "source": [
    "# Score"
   ]
  },
  {
   "cell_type": "code",
   "execution_count": 202,
   "id": "3fa1222d",
   "metadata": {},
   "outputs": [
    {
     "data": {
      "text/plain": [
       "array([[11,  3],\n",
       "       [ 1,  3]], dtype=int64)"
      ]
     },
     "execution_count": 202,
     "metadata": {},
     "output_type": "execute_result"
    }
   ],
   "source": [
    "# Score\n",
    "cnf_matrix = metrics.confusion_matrix(y_test, y_pred)\n",
    "cnf_matrix"
   ]
  },
  {
   "cell_type": "code",
   "execution_count": 203,
   "id": "d69e87d4",
   "metadata": {},
   "outputs": [
    {
     "name": "stdout",
     "output_type": "stream",
     "text": [
      "Accuracy: 0.7777777777777778\n"
     ]
    }
   ],
   "source": [
    "print(\"Accuracy:\",metrics.accuracy_score(y_test, y_pred))"
   ]
  },
  {
   "cell_type": "code",
   "execution_count": null,
   "id": "3f8871cb",
   "metadata": {},
   "outputs": [],
   "source": []
  }
 ],
 "metadata": {
  "kernelspec": {
   "display_name": "Python 3",
   "language": "python",
   "name": "python3"
  },
  "language_info": {
   "codemirror_mode": {
    "name": "ipython",
    "version": 3
   },
   "file_extension": ".py",
   "mimetype": "text/x-python",
   "name": "python",
   "nbconvert_exporter": "python",
   "pygments_lexer": "ipython3",
   "version": "3.8.15"
  }
 },
 "nbformat": 4,
 "nbformat_minor": 5
}
