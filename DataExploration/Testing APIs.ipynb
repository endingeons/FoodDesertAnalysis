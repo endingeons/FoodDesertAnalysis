{
 "cells": [
  {
   "cell_type": "markdown",
   "id": "013ea515",
   "metadata": {},
   "source": [
    "# Testing APIs"
   ]
  },
  {
   "cell_type": "markdown",
   "id": "71b7243d",
   "metadata": {},
   "source": [
    "## Spoonacular API\n",
    "Need Spoonacular API to find food words and get nutrition from each food word"
   ]
  },
  {
   "cell_type": "code",
   "execution_count": 1,
   "id": "644e5fce",
   "metadata": {},
   "outputs": [],
   "source": [
    "from secretKeys import api_key\n",
    "from secretKeys import maps_api_key\n",
    "import spoonacular as sp\n",
    "import json\n",
    "import re\n",
    "\n",
    "\n",
    "review_sample = \"Clean place. Good service. Tried this for salads for the first time. \\\n",
    "Portion size on greens and other veggies is decent. Protein portions seemed skimpy. \\\n",
    "Loved their dressings, they are super tasty. We tried Hummus Crunch Salad, \\\n",
    "Buffalo Chicken Bowl, Chicken Pesto Parm. All of them were good.\"\n"
   ]
  },
  {
   "cell_type": "markdown",
   "id": "9a61903b",
   "metadata": {},
   "source": [
    "### Detect text for mentions of food"
   ]
  },
  {
   "cell_type": "code",
   "execution_count": 26,
   "id": "31e6b3d0",
   "metadata": {},
   "outputs": [],
   "source": [
    "# Connect to API\n",
    "api = sp.API(api_key)\n",
    "\n",
    "response = api.detect_food_in_text(review_sample)\n",
    "data = response.json()"
   ]
  },
  {
   "cell_type": "code",
   "execution_count": 14,
   "id": "7ca49c5a",
   "metadata": {},
   "outputs": [
    {
     "data": {
      "text/plain": [
       "{'annotations': [{'annotation': 'buffalo chicken',\n",
       "   'tag': 'ingredient',\n",
       "   'image': 'https://spoonacular.com/cdn/ingredients_100x100/whole-chicken.jpg'},\n",
       "  {'annotation': 'chicken,bowl', 'tag': 'dish'},\n",
       "  {'annotation': 'chicken',\n",
       "   'tag': 'ingredient',\n",
       "   'image': 'https://spoonacular.com/cdn/ingredients_100x100/whole-chicken.jpg'},\n",
       "  {'annotation': 'buffalo',\n",
       "   'tag': 'ingredient',\n",
       "   'image': 'https://spoonacular.com/cdn/ingredients_100x100/fresh-ground-beef.jpg'},\n",
       "  {'annotation': 'hummus',\n",
       "   'tag': 'dish',\n",
       "   'image': 'https://spoonacular.com/cdn/ingredients_100x100/hummus.jpg'},\n",
       "  {'annotation': 'greens',\n",
       "   'tag': 'ingredient',\n",
       "   'image': 'https://spoonacular.com/cdn/ingredients_100x100/mixed-greens-or-mesclun.jpg'},\n",
       "  {'annotation': 'pesto',\n",
       "   'tag': 'dish',\n",
       "   'image': 'https://spoonacular.com/cdn/ingredients_100x100/basil-pesto.png'},\n",
       "  {'annotation': 'salad',\n",
       "   'tag': 'dish',\n",
       "   'image': 'https://spoonacular.com/menuItemImages/salad.jpg'},\n",
       "  {'annotation': 'bowl', 'tag': 'dish'}],\n",
       " 'processedInMs': 10}"
      ]
     },
     "execution_count": 14,
     "metadata": {},
     "output_type": "execute_result"
    }
   ],
   "source": [
    "data"
   ]
  },
  {
   "cell_type": "code",
   "execution_count": 12,
   "id": "b3a31add",
   "metadata": {},
   "outputs": [
    {
     "name": "stdout",
     "output_type": "stream",
     "text": [
      "['buffalo chicken', 'chicken,bowl', 'chicken', 'buffalo', 'hummus', 'greens', 'pesto', 'salad', 'bowl']\n"
     ]
    }
   ],
   "source": [
    "print([x['annotation'] for x in data['annotations']])"
   ]
  },
  {
   "cell_type": "markdown",
   "id": "74bebea3",
   "metadata": {},
   "source": [
    "### Get nutrition from food"
   ]
  },
  {
   "cell_type": "code",
   "execution_count": 17,
   "id": "83157a9b",
   "metadata": {},
   "outputs": [],
   "source": [
    "response = api.guess_nutrition_by_dish_name('bowl')\n",
    "data = response.json()"
   ]
  },
  {
   "cell_type": "code",
   "execution_count": 18,
   "id": "46444a0c",
   "metadata": {},
   "outputs": [
    {
     "data": {
      "text/plain": [
       "{'recipesUsed': 25,\n",
       " 'calories': {'value': 326.0,\n",
       "  'unit': 'calories',\n",
       "  'confidenceRange95Percent': {'min': 292.09, 'max': 508.44},\n",
       "  'standardDeviation': 275.96},\n",
       " 'fat': {'value': 16.0,\n",
       "  'unit': 'g',\n",
       "  'confidenceRange95Percent': {'min': 13.44, 'max': 29.09},\n",
       "  'standardDeviation': 19.97},\n",
       " 'protein': {'value': 9.0,\n",
       "  'unit': 'g',\n",
       "  'confidenceRange95Percent': {'min': 9.67, 'max': 23.32},\n",
       "  'standardDeviation': 17.41},\n",
       " 'carbs': {'value': 33.0,\n",
       "  'unit': 'g',\n",
       "  'confidenceRange95Percent': {'min': 28.58, 'max': 45.58},\n",
       "  'standardDeviation': 21.68}}"
      ]
     },
     "execution_count": 18,
     "metadata": {},
     "output_type": "execute_result"
    }
   ],
   "source": [
    "data"
   ]
  },
  {
   "cell_type": "markdown",
   "id": "c6922f84",
   "metadata": {},
   "source": [
    "Recipe from food dish\n",
    "- calories\n",
    "- fat\n",
    "- protein\n",
    "- carbs"
   ]
  },
  {
   "cell_type": "markdown",
   "id": "bf0aa128",
   "metadata": {},
   "source": [
    "## Google Places API\n",
    "Get all restaurants in some radius of a latitude and longitude in the center of a census tract"
   ]
  },
  {
   "cell_type": "code",
   "execution_count": 100,
   "id": "e79c65e3",
   "metadata": {},
   "outputs": [],
   "source": [
    "import requests\n",
    "\n",
    "lat = '39.8940308'\n",
    "lon = '-75.0494324'\n",
    "radius = '1609.344'\n",
    "typePlace = 'restaurant'\n",
    "\n",
    "url = 'https://maps.googleapis.com/maps/api/place/nearbysearch/json?'\n",
    "params = {\n",
    "    \"location\": \"{},{}\".format(lat, lon),\n",
    "    \"radius\": radius,\n",
    "    \"type\": typePlace,\n",
    "    \"key\": maps_api_key    \n",
    "}\n"
   ]
  },
  {
   "cell_type": "code",
   "execution_count": 101,
   "id": "ea3ccea6",
   "metadata": {},
   "outputs": [
    {
     "name": "stdout",
     "output_type": "stream",
     "text": [
      "200\n",
      "{'html_attributions': [], 'next_page_token': 'AUacShiDSRb9RD9oria-iUntzyF56k_reO7LKvaZ_09YQpqe7y__JxEnZfMUfB0LgTxUO3NULzEuEkZ8VjaLmuNol8x-9kBxqEPIb00Y6bCMaeRp1T3o8KXvn7jprWNuKlc_anXGZsAgJnvViIyKAr0AgAoZc0liZLSKqDAdRkpDyAhIM9Ym6QYFldhwRF3idgE2Og1r72EVHa5Mv4e5YfAZ-BjigSEZe8mPte4ik3OioDL5r5rE7QOCERfGpG6tDbGvSOeNaEDLtO2rsJhG0W0n7HTN7vLOqjGYpeigjwubFv9D0V_VLPUatuF9KyGMsWA0JrI4Z6U6hn5joTwSCxuHeQig0TU3r2YHIuEAmoJTmjMNttzj-Hvhlz-0LU8kLVL-Ax2hWV5oZYx15rvfrpwoPQdM8V0YR6gNY5SyxpHSYMKNcJO2zwoMo9U-Box_', 'results': [{'business_status': 'OPERATIONAL', 'geometry': {'location': {'lat': 39.899892, 'lng': -75.0527421}, 'viewport': {'northeast': {'lat': 39.9012398802915, 'lng': -75.0513367697085}, 'southwest': {'lat': 39.8985419197085, 'lng': -75.0540347302915}}}, 'icon': 'https://maps.gstatic.com/mapfiles/place_api/icons/v1/png_71/bar-71.png', 'icon_background_color': '#FF9E67', 'icon_mask_base_uri': 'https://maps.gstatic.com/mapfiles/place_api/icons/v2/bar_pinlet', 'name': 'The Taproom & Grill', 'opening_hours': {'open_now': True}, 'photos': [{'height': 1512, 'html_attributions': ['<a href=\"https://maps.google.com/maps/contrib/100961352283622230234\">The Taproom &amp; Grill</a>'], 'photo_reference': 'AUacShgE-lUS3-QWapXgJZo6tFV3TlqIuW-nhlgEyh9UF_vmBIVWoL3KPnjhc06vS5To4hHg4YUiDVIs7XhkWJVJlyygR5VJACoYDjvYReN4orvmT_74Mi4QqkJ9etoXbLBphNxLqnkIDt3KxOLfBE2BZ4V_X-pLC67EIMbv3wg6BufI6lZP', 'width': 2016}], 'place_id': 'ChIJLzc-mgbMxokRacgvR-gDIjo', 'plus_code': {'compound_code': 'VWXW+XW Haddonfield, NJ, USA', 'global_code': '87F6VWXW+XW'}, 'price_level': 2, 'rating': 3.9, 'reference': 'ChIJLzc-mgbMxokRacgvR-gDIjo', 'scope': 'GOOGLE', 'types': ['bar', 'restaurant', 'food', 'point_of_interest', 'establishment'], 'user_ratings_total': 805, 'vicinity': '427 West Crystal Lake Avenue, Haddonfield'}, {'business_status': 'OPERATIONAL', 'geometry': {'location': {'lat': 39.90475929999999, 'lng': -75.04204539999999}, 'viewport': {'northeast': {'lat': 39.9060900802915, 'lng': -75.04059716970848}, 'southwest': {'lat': 39.9033921197085, 'lng': -75.04329513029148}}}, 'icon': 'https://maps.gstatic.com/mapfiles/place_api/icons/v1/png_71/bar-71.png', 'icon_background_color': '#FF9E67', 'icon_mask_base_uri': 'https://maps.gstatic.com/mapfiles/place_api/icons/v2/bar_pinlet', 'name': \"P.J. Whelihan's Pub + Restaurant - Haddon Township\", 'opening_hours': {'open_now': True}, 'photos': [{'height': 3456, 'html_attributions': ['<a href=\"https://maps.google.com/maps/contrib/100950019239757997025\">P.J. Whelihan&#39;s Pub + Restaurant - Haddon Township</a>'], 'photo_reference': 'AUacShjx6gjB8WhNcVo5aiIha3VmL3zJx2-ok1u2M6REIndiR9uCTBq0sViVpaeumFTZiPLD-R1a6ux9gZeipAJRmC3YtTMzxVL8CLDqU8uT0UTtOpTrp_mtzm04iJSi153yxReFuAWJzF06cUj2GbhMNXXq2-9-GKqNUl2_NILXjzfC78iK', 'width': 5184}], 'place_id': 'ChIJyR2Du_XLxokRLKV0hQS-a4I', 'plus_code': {'compound_code': 'WX35+W5 Haddonfield, NJ, USA', 'global_code': '87F6WX35+W5'}, 'price_level': 2, 'rating': 4.2, 'reference': 'ChIJyR2Du_XLxokRLKV0hQS-a4I', 'scope': 'GOOGLE', 'types': ['bar', 'restaurant', 'food', 'point_of_interest', 'establishment'], 'user_ratings_total': 1091, 'vicinity': '700 North Haddon Avenue, Haddonfield'}, {'business_status': 'OPERATIONAL', 'geometry': {'location': {'lat': 39.9071083, 'lng': -75.0441694}, 'viewport': {'northeast': {'lat': 39.9084536802915, 'lng': -75.0426257197085}, 'southwest': {'lat': 39.9057557197085, 'lng': -75.0453236802915}}}, 'icon': 'https://maps.gstatic.com/mapfiles/place_api/icons/v1/png_71/restaurant-71.png', 'icon_background_color': '#FF9E67', 'icon_mask_base_uri': 'https://maps.gstatic.com/mapfiles/place_api/icons/v2/restaurant_pinlet', 'name': \"Giumarello's Restaurant & G Bar\", 'opening_hours': {'open_now': True}, 'photos': [{'height': 3354, 'html_attributions': ['<a href=\"https://maps.google.com/maps/contrib/117621648509246351537\">Giumarello&#39;s Restaurant &amp; G Bar</a>'], 'photo_reference': 'AUacShi23ERAa5un_Fio_S48-2yXJMdZA1RBbXOdolwIFAzarzHuwQ0RUodgkONd7dNIGTCfMGe-Dq9uxG6UvbH2b_3HTcvMgY4f423r98wvRKgUVhOSr-s67nlDKKDejl4avtw3fLD350Uisjvx36LLePovncRXsYxiVHFone6SySoqTGGC', 'width': 5390}], 'place_id': 'ChIJ5XfLXUbJxokRNS4UeRp-qow', 'plus_code': {'compound_code': 'WX44+R8 Haddon Township, NJ, USA', 'global_code': '87F6WX44+R8'}, 'price_level': 3, 'rating': 4.6, 'reference': 'ChIJ5XfLXUbJxokRNS4UeRp-qow', 'scope': 'GOOGLE', 'types': ['meal_takeaway', 'night_club', 'bar', 'restaurant', 'food', 'point_of_interest', 'establishment'], 'user_ratings_total': 1233, 'vicinity': '329 North Haddon Avenue, Haddon Township'}, {'business_status': 'OPERATIONAL', 'geometry': {'location': {'lat': 39.9031428, 'lng': -75.0392176}, 'viewport': {'northeast': {'lat': 39.9044054802915, 'lng': -75.03800056970849}, 'southwest': {'lat': 39.9017075197085, 'lng': -75.04069853029151}}}, 'icon': 'https://maps.gstatic.com/mapfiles/place_api/icons/v1/png_71/restaurant-71.png', 'icon_background_color': '#FF9E67', 'icon_mask_base_uri': 'https://maps.gstatic.com/mapfiles/place_api/icons/v2/restaurant_pinlet', 'name': 'Tre Famiglia Ristorante BYOB', 'opening_hours': {'open_now': True}, 'photos': [{'height': 500, 'html_attributions': ['<a href=\"https://maps.google.com/maps/contrib/108173653071729408691\">Tre Famiglia Ristorante BYOB</a>'], 'photo_reference': 'AUacShgvGFGuPTx89B9cM5dn2mQ9rqxp6vDfCMV52aW-Ngmax9-46TzgOd8ez4Hg412r-JJ6J3PlWzur3qqp2R6J0fPE28vIfp_FEYNqnACzcmFBRUmQEcf4Xi9qBh2I9DhUIlPJwZtKU44iVwKV5VDxkOawCkb0FTbHVzzXdKn5ZXiCFa2G', 'width': 500}], 'place_id': 'ChIJqcvuYPXLxokRjKpaxuQLM-o', 'plus_code': {'compound_code': 'WX36+78 Haddonfield, NJ, USA', 'global_code': '87F6WX36+78'}, 'price_level': 2, 'rating': 4.5, 'reference': 'ChIJqcvuYPXLxokRjKpaxuQLM-o', 'scope': 'GOOGLE', 'types': ['restaurant', 'food', 'point_of_interest', 'establishment'], 'user_ratings_total': 714, 'vicinity': '403 North Haddon Avenue, Haddonfield'}, {'business_status': 'OPERATIONAL', 'geometry': {'location': {'lat': 39.8970787, 'lng': -75.0335103}, 'viewport': {'northeast': {'lat': 39.89847683029149, 'lng': -75.0322603697085}, 'southwest': {'lat': 39.89577886970849, 'lng': -75.0349583302915}}}, 'icon': 'https://maps.gstatic.com/mapfiles/place_api/icons/v1/png_71/restaurant-71.png', 'icon_background_color': '#FF9E67', 'icon_mask_base_uri': 'https://maps.gstatic.com/mapfiles/place_api/icons/v2/restaurant_pinlet', 'name': 'Fuji Restaurant', 'opening_hours': {'open_now': True}, 'photos': [{'height': 1080, 'html_attributions': ['<a href=\"https://maps.google.com/maps/contrib/117414735714707676354\">Fuji Restaurant</a>'], 'photo_reference': 'AUacShgCV05zD9vvM2yixoaOuVyB5tD74WAqSBjphYk3Szha78NkrMFlvsvvuF3pw5MQ5p0ayOICGOkqY6lOQFFQEstDa-bDR4hOMdu6Jl5O_mg2Ky0_ElS1ydk1Y3ZFWpf1uPwroYTWB8a5vp-pngV3AxKXlE-18SltI9U25Q9GEJy6HZrL', 'width': 1920}], 'place_id': 'ChIJq9PPinPMxokRmram-9xB4Ds', 'plus_code': {'compound_code': 'VXW8+RH Haddonfield, NJ, USA', 'global_code': '87F6VXW8+RH'}, 'price_level': 2, 'rating': 4.5, 'reference': 'ChIJq9PPinPMxokRmram-9xB4Ds', 'scope': 'GOOGLE', 'types': ['restaurant', 'food', 'point_of_interest', 'establishment'], 'user_ratings_total': 172, 'vicinity': '116 Kings Highway East, Haddonfield'}, {'business_status': 'OPERATIONAL', 'geometry': {'location': {'lat': 39.89432070000001, 'lng': -75.0597693}, 'viewport': {'northeast': {'lat': 39.89555388029151, 'lng': -75.05848836970848}, 'southwest': {'lat': 39.89285591970851, 'lng': -75.0611863302915}}}, 'icon': 'https://maps.gstatic.com/mapfiles/place_api/icons/v1/png_71/restaurant-71.png', 'icon_background_color': '#FF9E67', 'icon_mask_base_uri': 'https://maps.gstatic.com/mapfiles/place_api/icons/v2/restaurant_pinlet', 'name': \"Bruno's Pizzeria and Restaurant\", 'opening_hours': {'open_now': True}, 'photos': [{'height': 2988, 'html_attributions': ['<a href=\"https://maps.google.com/maps/contrib/102734464886610706504\">Matt Kacar</a>'], 'photo_reference': 'AUacShhEqi3yArU-iAips0X5-LjAxA8LU1Q0QTjGl6ti2zRx1EFIS5mPFw6Rezs0XrXM4eG7G_Ah5N1Y9fApe9-gAFANvbTmesycxtHRYYh8_UCdoCPOGsG4GPT9N4nfdfyIdkoyyWs8LPn36WpxYzkLZ8UnkahONFdYxLFCx7jemiT7Kd76', 'width': 5312}], 'place_id': 'ChIJTwfWQR3MxokRCA1Flbtpm7c', 'plus_code': {'compound_code': 'VWVR+P3 Haddon Township, NJ, USA', 'global_code': '87F6VWVR+P3'}, 'price_level': 2, 'rating': 4.5, 'reference': 'ChIJTwfWQR3MxokRCA1Flbtpm7c', 'scope': 'GOOGLE', 'types': ['restaurant', 'food', 'point_of_interest', 'establishment'], 'user_ratings_total': 419, 'vicinity': '509 Hopkins Road, Haddon Township'}, {'business_status': 'OPERATIONAL', 'geometry': {'location': {'lat': 39.8967408, 'lng': -75.0341541}, 'viewport': {'northeast': {'lat': 39.8981730302915, 'lng': -75.03286751970849}, 'southwest': {'lat': 39.8954750697085, 'lng': -75.0355654802915}}}, 'icon': 'https://maps.gstatic.com/mapfiles/place_api/icons/v1/png_71/cafe-71.png', 'icon_background_color': '#FF9E67', 'icon_mask_base_uri': 'https://maps.gstatic.com/mapfiles/place_api/icons/v2/cafe_pinlet', 'name': 'Saxbys Haddonfield', 'opening_hours': {'open_now': False}, 'photos': [{'height': 1216, 'html_attributions': ['<a href=\"https://maps.google.com/maps/contrib/109788952322705354514\">Saxbys Haddonfield</a>'], 'photo_reference': 'AUacShgZoLdnzQaf7JL4qq1npdomlHjj5mvjK_F_76YmFlQNotkT88EOdgpUZvy606FHp4YcBn6noZDqzY8csMndMr_ssLSv6ePuP1LyOl4znOz5lHcgaCBOsD83_47fJ8EvbwyNohtuS7fgRONK7PkRZTMYhQktQuX6LQAh2dQHqSCakEhM', 'width': 2048}], 'place_id': 'ChIJW3t4hnPMxokRiDB5sCqZw_4', 'plus_code': {'compound_code': 'VXW8+M8 Haddonfield, NJ, USA', 'global_code': '87F6VXW8+M8'}, 'price_level': 1, 'rating': 4.4, 'reference': 'ChIJW3t4hnPMxokRiDB5sCqZw_4', 'scope': 'GOOGLE', 'types': ['store', 'cafe', 'restaurant', 'food', 'point_of_interest', 'establishment'], 'user_ratings_total': 444, 'vicinity': '104 Kings Highway East, Haddonfield'}, {'business_status': 'OPERATIONAL', 'geometry': {'location': {'lat': 39.8975728, 'lng': -75.03250729999999}, 'viewport': {'northeast': {'lat': 39.8989859802915, 'lng': -75.0312047697085}, 'southwest': {'lat': 39.8962880197085, 'lng': -75.03390273029152}}}, 'icon': 'https://maps.gstatic.com/mapfiles/place_api/icons/v1/png_71/restaurant-71.png', 'icon_background_color': '#FF9E67', 'icon_mask_base_uri': 'https://maps.gstatic.com/mapfiles/place_api/icons/v2/restaurant_pinlet', 'name': 'The British Chip Shop', 'opening_hours': {'open_now': True}, 'photos': [{'height': 360, 'html_attributions': ['<a href=\"https://maps.google.com/maps/contrib/111722125434030999849\">The British Chip Shop</a>'], 'photo_reference': 'AUacShgf_QJw-_DkAShjytmEmix1Ilwzcelq1eSFrGykusHwdFPMBlRKZ6k8PwU_s0AwHxenygLv5nSqln7KCA9xwkhk_-1Y4DbFrAjcyQv2p3uXR3wNo_kdnmZBdXGuaNsjXdPW8FYItCQmBAv1U3TmzTPwOKT73LndKxBwPGMPnXgZRZva', 'width': 480}], 'place_id': 'ChIJpzFeGnTMxokRLo0e9P0mSfk', 'plus_code': {'compound_code': 'VXX8+2X Haddonfield, NJ, USA', 'global_code': '87F6VXX8+2X'}, 'price_level': 2, 'rating': 4.3, 'reference': 'ChIJpzFeGnTMxokRLo0e9P0mSfk', 'scope': 'GOOGLE', 'types': ['bakery', 'store', 'cafe', 'bar', 'restaurant', 'food', 'point_of_interest', 'establishment'], 'user_ratings_total': 590, 'vicinity': '146 Kings Highway East, Haddonfield'}, {'business_status': 'OPERATIONAL', 'geometry': {'location': {'lat': 39.89724700000001, 'lng': -75.03402559999999}, 'viewport': {'northeast': {'lat': 39.8985228802915, 'lng': -75.03261246970848}, 'southwest': {'lat': 39.8958249197085, 'lng': -75.0353104302915}}}, 'icon': 'https://maps.gstatic.com/mapfiles/place_api/icons/v1/png_71/restaurant-71.png', 'icon_background_color': '#FF9E67', 'icon_mask_base_uri': 'https://maps.gstatic.com/mapfiles/place_api/icons/v2/restaurant_pinlet', 'name': 'The Bistro at Haddonfield', 'opening_hours': {'open_now': True}, 'photos': [{'height': 3456, 'html_attributions': ['<a href=\"https://maps.google.com/maps/contrib/108323040512452676200\">360 tour by MerchantView360</a>'], 'photo_reference': 'AUacShhtrrpOOcuWQjlGzWTUduFkc0ZJ9e1vMlpKmAhxN_jAkO2IIbm9lc1pgeXmfJ007rsV9QVHZI1OU3Wlsethm1ZjqBOqE-W_He7eO_V_tC6_apulDL3ScemtKao_OSe5Sf1JDGuefSwIX2YDBtjgKPbcM3fZsQ8M-0mLg7Gc-HzIRRe0', 'width': 5184}], 'place_id': 'ChIJ5xrOg3PMxokRhXNZLEk2O8Q', 'plus_code': {'compound_code': 'VXW8+V9 Haddonfield, NJ, USA', 'global_code': '87F6VXW8+V9'}, 'price_level': 2, 'rating': 4.6, 'reference': 'ChIJ5xrOg3PMxokRhXNZLEk2O8Q', 'scope': 'GOOGLE', 'types': ['restaurant', 'food', 'point_of_interest', 'establishment'], 'user_ratings_total': 1258, 'vicinity': '57 Kings Highway East, Haddonfield'}, {'business_status': 'OPERATIONAL', 'geometry': {'location': {'lat': 39.8828422, 'lng': -75.05755359999999}, 'viewport': {'northeast': {'lat': 39.8842347802915, 'lng': -75.05625141970849}, 'southwest': {'lat': 39.8815368197085, 'lng': -75.0589493802915}}}, 'icon': 'https://maps.gstatic.com/mapfiles/place_api/icons/v1/png_71/restaurant-71.png', 'icon_background_color': '#FF9E67', 'icon_mask_base_uri': 'https://maps.gstatic.com/mapfiles/place_api/icons/v2/restaurant_pinlet', 'name': \"Anthony's Creative Italian Cuisine\", 'opening_hours': {'open_now': True}, 'photos': [{'height': 4032, 'html_attributions': ['<a href=\"https://maps.google.com/maps/contrib/100920953821204219773\">Anthony&#39;s Creative Italian Cuisine</a>'], 'photo_reference': 'AUacShiSyVavXhbS4kBTL0tiXFzH7VKZoEuohV8Up23UjYhtbl_nyF5IROVPf4dxBCvZkNHFuNaXRJDhDVaFPBjwKiEh3oz60gtPu9nGgh8vIg8BE7SqpZz3YkUgVoa_djh6tuW-lu78wgPMBfYyUVyMDHb4ZWgJ6m-lsrDxyXuOZ2iGikSE', 'width': 3024}], 'place_id': 'ChIJ-e8yryHMxokRJEsTmUKIJjQ', 'plus_code': {'compound_code': 'VWMR+4X Haddon Heights, NJ, USA', 'global_code': '87F6VWMR+4X'}, 'price_level': 2, 'rating': 4.7, 'reference': 'ChIJ-e8yryHMxokRJEsTmUKIJjQ', 'scope': 'GOOGLE', 'types': ['restaurant', 'food', 'point_of_interest', 'establishment'], 'user_ratings_total': 308, 'vicinity': '512 Station Avenue, Haddon Heights'}, {'business_status': 'OPERATIONAL', 'geometry': {'location': {'lat': 39.8978083, 'lng': -75.0342807}, 'viewport': {'northeast': {'lat': 39.89917613029149, 'lng': -75.0328808197085}, 'southwest': {'lat': 39.8964781697085, 'lng': -75.0355787802915}}}, 'icon': 'https://maps.gstatic.com/mapfiles/place_api/icons/v1/png_71/restaurant-71.png', 'icon_background_color': '#FF9E67', 'icon_mask_base_uri': 'https://maps.gstatic.com/mapfiles/place_api/icons/v2/restaurant_pinlet', 'name': 'Sanook Thai Cuisine', 'opening_hours': {'open_now': True}, 'photos': [{'height': 1200, 'html_attributions': ['<a href=\"https://maps.google.com/maps/contrib/108391528196518005440\">Sanook Thai Cuisine</a>'], 'photo_reference': 'AUacShh4ankaMxEHrZrS4RCNVZhMHn_Qw2dremHRjYLPpD9h2dBFXMQIzF_bWgzCtiIqLgfQEFzDDnkWxO2reigPwnoiv7kRYwAtcHq-uamzEkvXEVqX8YDFIRdI6bEqtp8BPSd2Fx4Mlj_tDaQ2Txj-xHpfXs1SKMlPijWRObm6qMJI_hQh', 'width': 1600}], 'place_id': 'ChIJt3iifHTMxokRKp18JwEByS0', 'plus_code': {'compound_code': 'VXX8+47 Haddonfield, NJ, USA', 'global_code': '87F6VXX8+47'}, 'price_level': 2, 'rating': 4.4, 'reference': 'ChIJt3iifHTMxokRKp18JwEByS0', 'scope': 'GOOGLE', 'types': ['restaurant', 'food', 'point_of_interest', 'establishment'], 'user_ratings_total': 253, 'vicinity': '18 Tanner Street, Haddonfield'}, {'business_status': 'OPERATIONAL', 'geometry': {'location': {'lat': 39.897678, 'lng': -75.03342200000002}, 'viewport': {'northeast': {'lat': 39.8988986802915, 'lng': -75.03197506970851}, 'southwest': {'lat': 39.89620071970851, 'lng': -75.03467303029151}}}, 'icon': 'https://maps.gstatic.com/mapfiles/place_api/icons/v1/png_71/restaurant-71.png', 'icon_background_color': '#FF9E67', 'icon_mask_base_uri': 'https://maps.gstatic.com/mapfiles/place_api/icons/v2/restaurant_pinlet', 'name': 'Zaffron Mediterranean Cuisine', 'opening_hours': {'open_now': False}, 'photos': [{'height': 3024, 'html_attributions': ['<a href=\"https://maps.google.com/maps/contrib/103773684272182265382\">Zaffron Mediterranean Cuisine</a>'], 'photo_reference': 'AUacShickOrXrTq2njGbDxG7rORy2wpxVgDQAP3XKHF_BOd-uf0BJzsQ0MY8ZtgTpzTrnEL96dlv5Tpn7vxAmsWVAcQYM2depGGYGSMGylBb5cAlPYLyWUJsswg0azBqgisQke2AlIvoo0Upm_xozjYuoHkpZqCqlP6_9TJAu1cbEp7Y4An3', 'width': 3024}], 'place_id': 'ChIJkZY5bXTMxokRbkTRR6oY2WI', 'plus_code': {'compound_code': 'VXX8+3J Haddonfield, NJ, USA', 'global_code': '87F6VXX8+3J'}, 'price_level': 2, 'rating': 4.6, 'reference': 'ChIJkZY5bXTMxokRbkTRR6oY2WI', 'scope': 'GOOGLE', 'types': ['restaurant', 'food', 'point_of_interest', 'establishment'], 'user_ratings_total': 219, 'vicinity': '113 Kings Highway East, Haddonfield'}, {'business_status': 'OPERATIONAL', 'geometry': {'location': {'lat': 39.8977707, 'lng': -75.03318329999999}, 'viewport': {'northeast': {'lat': 39.89899293029151, 'lng': -75.03174906970848}, 'southwest': {'lat': 39.89629496970851, 'lng': -75.03444703029149}}}, 'icon': 'https://maps.gstatic.com/mapfiles/place_api/icons/v1/png_71/restaurant-71.png', 'icon_background_color': '#FF9E67', 'icon_mask_base_uri': 'https://maps.gstatic.com/mapfiles/place_api/icons/v2/restaurant_pinlet', 'name': 'Passariello’s Haddonfield - Pizzeria & Italian Kitchen', 'opening_hours': {'open_now': True}, 'photos': [{'height': 3024, 'html_attributions': ['<a href=\"https://maps.google.com/maps/contrib/107542079814132576350\">Barossa Boy</a>'], 'photo_reference': 'AUacShjsaLUG_DITBygrotn-ylqz8iUnMvgiKkF1hgBhEHyVWdh4SCYKp3JwgIbZ4eelmJZQN7LpBN9F2TMb03Y8EQBVmCzOYWQoR2EXrpLqBS_MxvEn7QOPjD6WASF4yaJAJDFGGJMXc6Hez7EPPo6y_UBT8Dp84XA6F_aTpg0wNnQZkIYU', 'width': 4032}], 'place_id': 'ChIJu_qYE3TMxokRDq9EZTuOZ3g', 'plus_code': {'compound_code': 'VXX8+4P Haddonfield, NJ, USA', 'global_code': '87F6VXX8+4P'}, 'rating': 4.3, 'reference': 'ChIJu_qYE3TMxokRDq9EZTuOZ3g', 'scope': 'GOOGLE', 'types': ['restaurant', 'food', 'point_of_interest', 'establishment'], 'user_ratings_total': 613, 'vicinity': '119 Kings Highway East, Haddonfield'}, {'business_status': 'OPERATIONAL', 'geometry': {'location': {'lat': 39.8979039, 'lng': -75.0315601}, 'viewport': {'northeast': {'lat': 39.89929463029149, 'lng': -75.03014711970849}, 'southwest': {'lat': 39.89659666970849, 'lng': -75.03284508029151}}}, 'icon': 'https://maps.gstatic.com/mapfiles/place_api/icons/v1/png_71/cafe-71.png', 'icon_background_color': '#FF9E67', 'icon_mask_base_uri': 'https://maps.gstatic.com/mapfiles/place_api/icons/v2/cafe_pinlet', 'name': 'Starbucks', 'opening_hours': {'open_now': True}, 'photos': [{'height': 3024, 'html_attributions': ['<a href=\"https://maps.google.com/maps/contrib/102533735148741017210\">Marjorie Sola</a>'], 'photo_reference': 'AUacShgMqn_CUHcy-ibOAgHJGe_MLb8fO0TJecJP2KrhUuVkRWUVw6hTc4eNmpgq3tFkkY5TVHRm2uV2yh67Jg_P3A4L0cmJJOvRLXU56vSVh8RGRjkoIwwGBykKcF9BHSkWXC5ltZ_HaV4Lu5vP7XPbVTRX4XStSG6hqtBbyuRj-qwUT4y5', 'width': 3756}], 'place_id': 'ChIJZRzrn3bMxokRdMnGyGHmXQo', 'plus_code': {'compound_code': 'VXX9+59 Haddonfield, NJ, USA', 'global_code': '87F6VXX9+59'}, 'price_level': 2, 'rating': 4.3, 'reference': 'ChIJZRzrn3bMxokRdMnGyGHmXQo', 'scope': 'GOOGLE', 'types': ['store', 'cafe', 'restaurant', 'food', 'point_of_interest', 'establishment'], 'user_ratings_total': 397, 'vicinity': '214-216 Kings Highway East, Haddonfield'}, {'business_status': 'OPERATIONAL', 'geometry': {'location': {'lat': 39.89775919999999, 'lng': -75.03178009999999}, 'viewport': {'northeast': {'lat': 39.89922678029149, 'lng': -75.03052316970849}, 'southwest': {'lat': 39.89652881970849, 'lng': -75.03322113029151}}}, 'icon': 'https://maps.gstatic.com/mapfiles/place_api/icons/v1/png_71/restaurant-71.png', 'icon_background_color': '#FF9E67', 'icon_mask_base_uri': 'https://maps.gstatic.com/mapfiles/place_api/icons/v2/restaurant_pinlet', 'name': 'Cross Culture', 'opening_hours': {'open_now': True}, 'photos': [{'height': 3024, 'html_attributions': ['<a href=\"https://maps.google.com/maps/contrib/106660123695918708589\">Cross Culture</a>'], 'photo_reference': 'AUacShiiVt4ZEGQQbgCWV7YlgXQYSKqGxHaJt6ehgshpxfUbye1WHnD9aKyfhMKQ0QcMcHXCeHFfZoZYgE1JR5hm_28h0pRGqgBTrXJrg8TXYQTjN21K9skv1pqXptAD-Se8dzxtys0fueCrKFVbLb5oRnsSVBPsJHRvV3DK1DkniOKcY6dg', 'width': 4032}], 'place_id': 'ChIJhwhKoXbMxokR95JTX7tusY8', 'plus_code': {'compound_code': 'VXX9+47 Haddonfield, NJ, USA', 'global_code': '87F6VXX9+47'}, 'price_level': 2, 'rating': 4.3, 'reference': 'ChIJhwhKoXbMxokR95JTX7tusY8', 'scope': 'GOOGLE', 'types': ['restaurant', 'food', 'point_of_interest', 'establishment'], 'user_ratings_total': 279, 'vicinity': '208 Kings Highway East, Haddonfield'}, {'business_status': 'OPERATIONAL', 'geometry': {'location': {'lat': 39.890498, 'lng': -75.0654167}, 'viewport': {'northeast': {'lat': 39.89189753029151, 'lng': -75.06402586970849}, 'southwest': {'lat': 39.88919956970851, 'lng': -75.06672383029151}}}, 'icon': 'https://maps.gstatic.com/mapfiles/place_api/icons/v1/png_71/shopping-71.png', 'icon_background_color': '#4B96F3', 'icon_mask_base_uri': 'https://maps.gstatic.com/mapfiles/place_api/icons/v2/convenience_pinlet', 'name': 'Wawa', 'opening_hours': {'open_now': True}, 'photos': [{'height': 400, 'html_attributions': ['<a href=\"https://maps.google.com/maps/contrib/110606690821422946880\">Wawa</a>'], 'photo_reference': 'AUacShhV8lOVgloVhlMPNy9aKH9DaF3TPcD5Klp5Dky9wShKaykHpU12glkZdvpT0PnOO5BeokMvZjWKqj1x0j74TcyA-1iCaNgN-AIu4niykW3VUetwaEiRtN5rMnHY2i4BQIff48o-c5_MKTCaqjDgYupEMbyhm9GDsWpC9E7uHtern8tl', 'width': 500}], 'place_id': 'ChIJG4IwtabOxokReA9iahAR2jY', 'plus_code': {'compound_code': 'VWRM+5R Audubon, NJ, USA', 'global_code': '87F6VWRM+5R'}, 'price_level': 1, 'rating': 3.8, 'reference': 'ChIJG4IwtabOxokReA9iahAR2jY', 'scope': 'GOOGLE', 'types': ['convenience_store', 'store', 'cafe', 'restaurant', 'food', 'point_of_interest', 'establishment'], 'user_ratings_total': 76, 'vicinity': '320 South White Horse Pike, Audubon'}, {'business_status': 'OPERATIONAL', 'geometry': {'location': {'lat': 39.882151, 'lng': -75.059349}, 'viewport': {'northeast': {'lat': 39.8834121302915, 'lng': -75.05789581970849}, 'southwest': {'lat': 39.8807141697085, 'lng': -75.0605937802915}}}, 'icon': 'https://maps.gstatic.com/mapfiles/place_api/icons/v1/png_71/restaurant-71.png', 'icon_background_color': '#FF9E67', 'icon_mask_base_uri': 'https://maps.gstatic.com/mapfiles/place_api/icons/v2/restaurant_pinlet', 'name': 'Classic Asia', 'opening_hours': {'open_now': True}, 'photos': [{'height': 3120, 'html_attributions': ['<a href=\"https://maps.google.com/maps/contrib/115129295895812959512\">A Marshal</a>'], 'photo_reference': 'AUacShhGItFpA4R4z_x1LvoXAQ2bPWrLd3V7UlfdnJjVy4jNjKXn3eiTU1t6v6rJA1g-im0SNQZ-4OIBtN83v3vLemDWSrQ8sQlh5VmeIsHB7KrHGcx-G_UX3xmGcaddpJMpsix5tQylPLqDb9wwgO2FwXOmNN-KQmkvFDSo-bh372CHqaJ0', 'width': 4160}], 'place_id': 'ChIJ6y8J8iDMxokRVhtsNGJRVHM', 'plus_code': {'compound_code': 'VWJR+V7 Haddon Heights, NJ, USA', 'global_code': '87F6VWJR+V7'}, 'rating': 4.1, 'reference': 'ChIJ6y8J8iDMxokRVhtsNGJRVHM', 'scope': 'GOOGLE', 'types': ['meal_delivery', 'restaurant', 'food', 'point_of_interest', 'establishment'], 'user_ratings_total': 106, 'vicinity': '611 Station Avenue #1906, Haddon Heights'}, {'business_status': 'OPERATIONAL', 'geometry': {'location': {'lat': 39.9033823, 'lng': -75.03957199999999}, 'viewport': {'northeast': {'lat': 39.9046734302915, 'lng': -75.03832231970848}, 'southwest': {'lat': 39.9019754697085, 'lng': -75.04102028029149}}}, 'icon': 'https://maps.gstatic.com/mapfiles/place_api/icons/v1/png_71/restaurant-71.png', 'icon_background_color': '#FF9E67', 'icon_mask_base_uri': 'https://maps.gstatic.com/mapfiles/place_api/icons/v2/restaurant_pinlet', 'name': \"Tony's Pizza\", 'opening_hours': {'open_now': True}, 'photos': [{'height': 4032, 'html_attributions': ['<a href=\"https://maps.google.com/maps/contrib/116711451733053071516\">B Luscombe</a>'], 'photo_reference': 'AUacShgZlUJnqzp9CJo6QatDk9PCisAoOyJexpZKYkzxu4cw18rul_K7WIral_zSETxgMjZzyrwIRwIkpiKtSF9UksrFJQQk6y_Mybr1PdQZkQGS46UmWXsSyU3pM_Md0bOvOUeioJo-1dHcs5ipIVXjTi_j95ELUWv8eELHmTlfIG3rCSTM', 'width': 3024}], 'place_id': 'ChIJjeVSZPXLxokRb1-wbvrlbOc', 'plus_code': {'compound_code': 'WX36+95 Haddonfield, NJ, USA', 'global_code': '87F6WX36+95'}, 'price_level': 1, 'rating': 4.3, 'reference': 'ChIJjeVSZPXLxokRb1-wbvrlbOc', 'scope': 'GOOGLE', 'types': ['meal_takeaway', 'meal_delivery', 'restaurant', 'food', 'point_of_interest', 'establishment'], 'user_ratings_total': 82, 'vicinity': '419 North Haddon Avenue, Haddonfield'}, {'business_status': 'OPERATIONAL', 'geometry': {'location': {'lat': 39.9043871, 'lng': -75.04085289999999}, 'viewport': {'northeast': {'lat': 39.9056568302915, 'lng': -75.03957756970848}, 'southwest': {'lat': 39.9029588697085, 'lng': -75.04227553029149}}}, 'icon': 'https://maps.gstatic.com/mapfiles/place_api/icons/v1/png_71/restaurant-71.png', 'icon_background_color': '#FF9E67', 'icon_mask_base_uri': 'https://maps.gstatic.com/mapfiles/place_api/icons/v2/restaurant_pinlet', 'name': 'The Bread Board Plus', 'opening_hours': {'open_now': False}, 'photos': [{'height': 900, 'html_attributions': ['<a href=\"https://maps.google.com/maps/contrib/117401971005824620736\">The Bread Board Plus</a>'], 'photo_reference': 'AUacShitfVtpWTayTurLc9mi-PxBOYj9OuNB9hB2wF8vaVm9gCmOoKcGVYydS3V7KvEthvawB1B3knd_QkceasgPuXFRIq3Tq95ecgtD8QkMuDjA1Nm2d8ODa1Fk0W9_lU7YnlGyYbAKnCiwS_-JrDNivRr6nzg5dZRskYqjwttRyY59lLu4', 'width': 600}], 'place_id': 'ChIJQ-efn_XLxokR1iQDWBZTgX0', 'plus_code': {'compound_code': 'WX35+QM Haddonfield, NJ, USA', 'global_code': '87F6WX35+QM'}, 'price_level': 2, 'rating': 4.5, 'reference': 'ChIJQ-efn_XLxokR1iQDWBZTgX0', 'scope': 'GOOGLE', 'types': ['meal_takeaway', 'store', 'restaurant', 'food', 'point_of_interest', 'establishment'], 'user_ratings_total': 300, 'vicinity': '605 North Haddon Avenue, Haddonfield'}, {'business_status': 'OPERATIONAL', 'geometry': {'location': {'lat': 39.9004015, 'lng': -75.063715}, 'viewport': {'northeast': {'lat': 39.9018189302915, 'lng': -75.0622085697085}, 'southwest': {'lat': 39.89912096970851, 'lng': -75.06490653029151}}}, 'icon': 'https://maps.gstatic.com/mapfiles/place_api/icons/v1/png_71/restaurant-71.png', 'icon_background_color': '#FF9E67', 'icon_mask_base_uri': 'https://maps.gstatic.com/mapfiles/place_api/icons/v2/restaurant_pinlet', 'name': \"Nick & Joe's\", 'opening_hours': {'open_now': True}, 'photos': [{'height': 2992, 'html_attributions': ['<a href=\"https://maps.google.com/maps/contrib/103805938964528020161\">Trev Smoove</a>'], 'photo_reference': 'AUacShhTESloeRD_cjA1F4kzAJZeWOLk4-XyDSw9naKat1hLnFx2YXCYO7-Gv2kx37JEeZlp9ZxYAy-dZZTL2Ff3hpeUSVT7cHeMG5ko7J2CKCegC2roZrsnLjiWDOn9Iqt4eRjhAUnD7WX5rL0rY5tWFTw-yN43zw3gv0wyXkflwYiHOjad', 'width': 2992}], 'place_id': 'ChIJdQd9IKrOxokR4C0mUTgob_k', 'plus_code': {'compound_code': 'WW2P+5G Haddon Township, NJ, USA', 'global_code': '87F6WW2P+5G'}, 'price_level': 1, 'rating': 4.2, 'reference': 'ChIJdQd9IKrOxokR4C0mUTgob_k', 'scope': 'GOOGLE', 'types': ['meal_takeaway', 'meal_delivery', 'restaurant', 'food', 'point_of_interest', 'establishment'], 'user_ratings_total': 303, 'vicinity': '668 West Cuthbert Boulevard, Haddon Township'}], 'status': 'OK'}\n"
     ]
    }
   ],
   "source": [
    "r = requests.post(url, params=params)\n",
    "print(r.status_code)\n",
    "print(r.json())"
   ]
  },
  {
   "cell_type": "code",
   "execution_count": 102,
   "id": "39bce54b",
   "metadata": {},
   "outputs": [
    {
     "data": {
      "text/plain": [
       "dict_keys(['html_attributions', 'next_page_token', 'results', 'status'])"
      ]
     },
     "execution_count": 102,
     "metadata": {},
     "output_type": "execute_result"
    }
   ],
   "source": [
    "data = r.json()\n",
    "data.keys()"
   ]
  },
  {
   "cell_type": "code",
   "execution_count": 103,
   "id": "434105bb",
   "metadata": {},
   "outputs": [
    {
     "data": {
      "text/plain": [
       "{'business_status': 'OPERATIONAL',\n",
       " 'geometry': {'location': {'lat': 39.899892, 'lng': -75.0527421},\n",
       "  'viewport': {'northeast': {'lat': 39.9012398802915,\n",
       "    'lng': -75.0513367697085},\n",
       "   'southwest': {'lat': 39.8985419197085, 'lng': -75.0540347302915}}},\n",
       " 'icon': 'https://maps.gstatic.com/mapfiles/place_api/icons/v1/png_71/bar-71.png',\n",
       " 'icon_background_color': '#FF9E67',\n",
       " 'icon_mask_base_uri': 'https://maps.gstatic.com/mapfiles/place_api/icons/v2/bar_pinlet',\n",
       " 'name': 'The Taproom & Grill',\n",
       " 'opening_hours': {'open_now': True},\n",
       " 'photos': [{'height': 1512,\n",
       "   'html_attributions': ['<a href=\"https://maps.google.com/maps/contrib/100961352283622230234\">The Taproom &amp; Grill</a>'],\n",
       "   'photo_reference': 'AUacShgE-lUS3-QWapXgJZo6tFV3TlqIuW-nhlgEyh9UF_vmBIVWoL3KPnjhc06vS5To4hHg4YUiDVIs7XhkWJVJlyygR5VJACoYDjvYReN4orvmT_74Mi4QqkJ9etoXbLBphNxLqnkIDt3KxOLfBE2BZ4V_X-pLC67EIMbv3wg6BufI6lZP',\n",
       "   'width': 2016}],\n",
       " 'place_id': 'ChIJLzc-mgbMxokRacgvR-gDIjo',\n",
       " 'plus_code': {'compound_code': 'VWXW+XW Haddonfield, NJ, USA',\n",
       "  'global_code': '87F6VWXW+XW'},\n",
       " 'price_level': 2,\n",
       " 'rating': 3.9,\n",
       " 'reference': 'ChIJLzc-mgbMxokRacgvR-gDIjo',\n",
       " 'scope': 'GOOGLE',\n",
       " 'types': ['bar', 'restaurant', 'food', 'point_of_interest', 'establishment'],\n",
       " 'user_ratings_total': 805,\n",
       " 'vicinity': '427 West Crystal Lake Avenue, Haddonfield'}"
      ]
     },
     "execution_count": 103,
     "metadata": {},
     "output_type": "execute_result"
    }
   ],
   "source": [
    "data['results'][0]"
   ]
  },
  {
   "cell_type": "code",
   "execution_count": 108,
   "id": "d24b9fe6",
   "metadata": {},
   "outputs": [
    {
     "data": {
      "text/plain": [
       "'The Taproom & Grill'"
      ]
     },
     "execution_count": 108,
     "metadata": {},
     "output_type": "execute_result"
    }
   ],
   "source": [
    "data['results'][0]['name']"
   ]
  },
  {
   "cell_type": "code",
   "execution_count": 115,
   "id": "96df3af4",
   "metadata": {},
   "outputs": [
    {
     "name": "stdout",
     "output_type": "stream",
     "text": [
      "21\n"
     ]
    }
   ],
   "source": [
    "print(len(data['results']))\n",
    "\n",
    "r1 = data['results']\n",
    "r2 = data['results']"
   ]
  },
  {
   "cell_type": "code",
   "execution_count": 117,
   "id": "308a18ad",
   "metadata": {},
   "outputs": [],
   "source": []
  },
  {
   "cell_type": "code",
   "execution_count": 36,
   "id": "ad00fe8b",
   "metadata": {},
   "outputs": [
    {
     "name": "stdout",
     "output_type": "stream",
     "text": [
      "['The Taproom & Grill', \"P.J. Whelihan's Pub + Restaurant - Haddon Township\", \"Giumarello's Restaurant & G Bar\", 'Tre Famiglia Ristorante BYOB', 'Fuji Restaurant', \"Bruno's Pizzeria and Restaurant\", 'Saxbys Haddonfield', 'The British Chip Shop', 'The Bistro at Haddonfield', \"Anthony's Creative Italian Cuisine\", 'Sanook Thai Cuisine', 'Zaffron Mediterranean Cuisine', 'Passariello’s Haddonfield - Pizzeria & Italian Kitchen', 'Starbucks', 'Cross Culture', 'Wawa', 'Classic Asia', \"Tony's Pizza\", 'The Bread Board Plus', \"Nick & Joe's\"]\n"
     ]
    },
    {
     "data": {
      "text/plain": [
       "dict_keys(['business_status', 'geometry', 'icon', 'icon_background_color', 'icon_mask_base_uri', 'name', 'opening_hours', 'photos', 'place_id', 'plus_code', 'price_level', 'rating', 'reference', 'scope', 'types', 'user_ratings_total', 'vicinity'])"
      ]
     },
     "execution_count": 36,
     "metadata": {},
     "output_type": "execute_result"
    }
   ],
   "source": [
    "print([x['name'] for x in data['results']])\n",
    "\n",
    "data['results'][0].keys()\n",
    "\n",
    "# name\n",
    "# price_level\n",
    "# place_id\n",
    "# rating\n",
    "# user_ratings_total"
   ]
  },
  {
   "cell_type": "code",
   "execution_count": 110,
   "id": "f8cac8b0",
   "metadata": {},
   "outputs": [
    {
     "data": {
      "text/plain": [
       "'AUacShiDSRb9RD9oria-iUntzyF56k_reO7LKvaZ_09YQpqe7y__JxEnZfMUfB0LgTxUO3NULzEuEkZ8VjaLmuNol8x-9kBxqEPIb00Y6bCMaeRp1T3o8KXvn7jprWNuKlc_anXGZsAgJnvViIyKAr0AgAoZc0liZLSKqDAdRkpDyAhIM9Ym6QYFldhwRF3idgE2Og1r72EVHa5Mv4e5YfAZ-BjigSEZe8mPte4ik3OioDL5r5rE7QOCERfGpG6tDbGvSOeNaEDLtO2rsJhG0W0n7HTN7vLOqjGYpeigjwubFv9D0V_VLPUatuF9KyGMsWA0JrI4Z6U6hn5joTwSCxuHeQig0TU3r2YHIuEAmoJTmjMNttzj-Hvhlz-0LU8kLVL-Ax2hWV5oZYx15rvfrpwoPQdM8V0YR6gNY5SyxpHSYMKNcJO2zwoMo9U-Box_'"
      ]
     },
     "execution_count": 110,
     "metadata": {},
     "output_type": "execute_result"
    }
   ],
   "source": [
    "data['next_page_token']"
   ]
  },
  {
   "cell_type": "code",
   "execution_count": 56,
   "id": "6fc706bd",
   "metadata": {},
   "outputs": [],
   "source": [
    "# Get next page?\n",
    "page_token = data['next_page_token']"
   ]
  },
  {
   "cell_type": "code",
   "execution_count": 74,
   "id": "a4b4d59c",
   "metadata": {},
   "outputs": [
    {
     "name": "stdout",
     "output_type": "stream",
     "text": [
      "200\n",
      "{'html_attributions': [], 'next_page_token': 'AUacShh42g1AdhgrXh6ayPjqYMkQedaRCzNR5an9DqlwCJ952ZpJUxNJ7zZmCsk0oimkjoZMTsLiB6F_NFCoxa020TW-Ph6c3-A9y9IqvHFdxxVyLQe4jccAcLiBd-PiZv372D0Xyz4atTCykE_J_8vv3AqSqM7Uw-w8AleEH7-a1lsTzorE7pVdyVDPdvGSOXNxkAtM4y6uW6r-OkN4yGQd3Bi9n2-SYtLK-t1Po4zNVrjutf7sSy6rsghivcJtbbn8N9FYoZYFrNfq8xZEA6-V100VdU1kzjUrnpSQ87GvJlpDdp8DUj0F9VtcLOfTbuzrtYQIkR2Y6t9cPLTRMKSq00_9Wzuth3qKi4gMS-xXzKtQDBqK4F5bZnYUCrdjRtQulZ9fbsiDvuo-dU-9chMRC8k78VTIRvZtcEIUSVaK9PD-6Sgo0OWqwLtoxpv_7-AXT4XqjX3NKz7tx8IGH-__3suiQ-E8yBf1R2PgI8i_mkIcMkWqqNOas6ImxozrzB0f44M7-CVE6CWEwVaLOUXCK3j3-PNWd9CePDwAOWRVtPDfMp9uxQdqX2AZ7r2yjCIaG549ff50uebnNO1aZ1lDtdEDIMemqsmUXn4yfJWXMqnQBxL8n3jRh3KANssjLsCNK3EJkdiG9MmnHTFWgQ', 'results': [{'business_status': 'OPERATIONAL', 'geometry': {'location': {'lat': 39.887395, 'lng': -75.0586874}, 'viewport': {'northeast': {'lat': 39.8886609302915, 'lng': -75.05729376970851}, 'southwest': {'lat': 39.8859629697085, 'lng': -75.05999173029151}}}, 'icon': 'https://maps.gstatic.com/mapfiles/place_api/icons/v1/png_71/restaurant-71.png', 'icon_background_color': '#FF9E67', 'icon_mask_base_uri': 'https://maps.gstatic.com/mapfiles/place_api/icons/v2/restaurant_pinlet', 'name': 'Toscana’s Pizzeria & Restaurant', 'opening_hours': {'open_now': True}, 'photos': [{'height': 2988, 'html_attributions': ['<a href=\"https://maps.google.com/maps/contrib/103449008057299996159\">Rudy Acevedo</a>'], 'photo_reference': 'AUacShhMCsv9CX4q66FmAvqxIG2JRx3m_tHovcIM-lJxOXlhFH76kW-vGyI-urjNcEE5EXiMWZ0AdLHeqQvmFYeakvdB7zT3WeMdJ3TXT0FkP38tIVdRq6r2A4pQpNMaOnNwBnrCv1OOF4-2v0n3qpO8llSFL1DRO4mMk8vrRK2N87YEGJ2W', 'width': 5312}], 'place_id': 'ChIJrXiirh_MxokRkDWMshlALFk', 'plus_code': {'compound_code': 'VWPR+XG Audubon, NJ, USA', 'global_code': '87F6VWPR+XG'}, 'price_level': 1, 'rating': 4.3, 'reference': 'ChIJrXiirh_MxokRkDWMshlALFk', 'scope': 'GOOGLE', 'types': ['meal_delivery', 'restaurant', 'food', 'point_of_interest', 'establishment'], 'user_ratings_total': 155, 'vicinity': '51 Kings Highway, Audubon'}, {'business_status': 'OPERATIONAL', 'geometry': {'location': {'lat': 39.9006459, 'lng': -75.0638762}, 'viewport': {'northeast': {'lat': 39.9020555802915, 'lng': -75.0623793197085}, 'southwest': {'lat': 39.8993576197085, 'lng': -75.0650772802915}}}, 'icon': 'https://maps.gstatic.com/mapfiles/place_api/icons/v1/png_71/restaurant-71.png', 'icon_background_color': '#FF9E67', 'icon_mask_base_uri': 'https://maps.gstatic.com/mapfiles/place_api/icons/v2/restaurant_pinlet', 'name': 'Bamboo in Haddon', 'opening_hours': {'open_now': True}, 'photos': [{'height': 768, 'html_attributions': ['<a href=\"https://maps.google.com/maps/contrib/117616485309363178120\">Bamboo in Haddon</a>'], 'photo_reference': 'AUacShiRaxJbAOTHXx3EMa172ZRUZqyK4TACXmwUjdVKL-PBlX0WU650IG2Uka8E9oNOG_eId6wmLKCHH3IOsTMlGWs-rzgD8VLgMMP8p0bjJK59pSbODQG-0zDizdAYMBrE3oxksX2T_fm353rwZJeTR0bjyFFoQtc4fPRKhFezIJY50qnd', 'width': 1366}], 'place_id': 'ChIJdQd9IKrOxokR4vhrtD-vK-E', 'plus_code': {'compound_code': 'WW2P+7C Haddon Township, NJ, USA', 'global_code': '87F6WW2P+7C'}, 'rating': 4, 'reference': 'ChIJdQd9IKrOxokR4vhrtD-vK-E', 'scope': 'GOOGLE', 'types': ['meal_takeaway', 'meal_delivery', 'restaurant', 'food', 'point_of_interest', 'establishment'], 'user_ratings_total': 79, 'vicinity': '678 West Cuthbert Boulevard, Haddon Township'}, {'business_status': 'OPERATIONAL', 'geometry': {'location': {'lat': 39.903443, 'lng': -75.061829}, 'viewport': {'northeast': {'lat': 39.9048315302915, 'lng': -75.0606055197085}, 'southwest': {'lat': 39.9021335697085, 'lng': -75.06330348029151}}}, 'icon': 'https://maps.gstatic.com/mapfiles/place_api/icons/v1/png_71/restaurant-71.png', 'icon_background_color': '#FF9E67', 'icon_mask_base_uri': 'https://maps.gstatic.com/mapfiles/place_api/icons/v2/restaurant_pinlet', 'name': 'Westmont Diner', 'opening_hours': {'open_now': True}, 'photos': [{'height': 3024, 'html_attributions': ['<a href=\"https://maps.google.com/maps/contrib/103561866935688695984\">So Cal Joe</a>'], 'photo_reference': 'AUacShg-TrK_rC3gyjL7N8W-jrd85-NqpgmYwvlo4Etsgf0yCVQd_IcWi9_XTDRCwYPv9ZgcSLWMY51NEVXnCEJld6YV4WRNmo87Rjbno0-CfU3Uh4cjqWj-9_sX4dg98APcxiLW9bAjukmW6tk1OPYJBU6wtZoXM4u27MJUAlEADHbTfH9J', 'width': 4032}], 'place_id': 'ChIJw5TDvvbLxokRsWl41tsZTxk', 'plus_code': {'compound_code': 'WW3Q+97 Haddon Township, NJ, USA', 'global_code': '87F6WW3Q+97'}, 'price_level': 1, 'rating': 4.3, 'reference': 'ChIJw5TDvvbLxokRsWl41tsZTxk', 'scope': 'GOOGLE', 'types': ['meal_takeaway', 'restaurant', 'food', 'point_of_interest', 'establishment'], 'user_ratings_total': 1098, 'vicinity': '572 West Cuthbert Boulevard, Haddon Township'}, {'business_status': 'OPERATIONAL', 'geometry': {'location': {'lat': 39.89639500000001, 'lng': -75.035889}, 'viewport': {'northeast': {'lat': 39.8976527802915, 'lng': -75.0344587197085}, 'southwest': {'lat': 39.8949548197085, 'lng': -75.0371566802915}}}, 'icon': 'https://maps.gstatic.com/mapfiles/place_api/icons/v1/png_71/restaurant-71.png', 'icon_background_color': '#FF9E67', 'icon_mask_base_uri': 'https://maps.gstatic.com/mapfiles/place_api/icons/v2/restaurant_pinlet', 'name': 'Mare Monte', 'opening_hours': {'open_now': True}, 'photos': [{'height': 3024, 'html_attributions': ['<a href=\"https://maps.google.com/maps/contrib/107055647540560320417\">Mare Monte</a>'], 'photo_reference': 'AUacShi7cUGWIFbmpxl7QPJXon495DQ3wHMErRH12l9ehbBLI4toDEk_AXi6GSL_jEZV3G2jr_XBM7z77N5gNoxTxaCERLobf-TRGc6plwkp_jX9eEN4euWbdoGkA0-UjWls1c5XuSFNmOg8Mvw3o3AdF_zB0lr1Erl6cB1NDDyj1Oq_TgLD', 'width': 4032}], 'place_id': 'ChIJ99OwbnPMxokRWU0KJHNp01Y', 'plus_code': {'compound_code': 'VXW7+HJ Haddonfield, NJ, USA', 'global_code': '87F6VXW7+HJ'}, 'rating': 4.7, 'reference': 'ChIJ99OwbnPMxokRWU0KJHNp01Y', 'scope': 'GOOGLE', 'types': ['restaurant', 'food', 'point_of_interest', 'establishment'], 'user_ratings_total': 269, 'vicinity': '1 Kings Highway East, Haddonfield'}, {'business_status': 'OPERATIONAL', 'geometry': {'location': {'lat': 39.8976824, 'lng': -75.03427529999999}, 'viewport': {'northeast': {'lat': 39.8990658802915, 'lng': -75.03284421970848}, 'southwest': {'lat': 39.8963679197085, 'lng': -75.03554218029149}}}, 'icon': 'https://maps.gstatic.com/mapfiles/place_api/icons/v1/png_71/generic_business-71.png', 'icon_background_color': '#7B9EB0', 'icon_mask_base_uri': 'https://maps.gstatic.com/mapfiles/place_api/icons/v2/generic_pinlet', 'name': 'Rent A Chef', 'photos': [{'height': 1702, 'html_attributions': ['<a href=\"https://maps.google.com/maps/contrib/108115226828881654969\">Rent A Chef</a>'], 'photo_reference': 'AUacShhlVQfnvc3euRPzy_xZNcSFj1l25nlB42EzThOc4ts3QgQd-UhHAq-kuvxVyJSdV66lfgNlfK7xk6Kn86torJjtxLaRbosZEe0bm8Vgg_0qrS11BQG5QoQ2ScOWDJk49y-DtZlVPn2ip6B3QReYxaW1x4wyAyjzGUHGDwWeeekks_Jn', 'width': 3024}], 'place_id': 'ChIJG8r1b3TMxokRK9kge5rVhDA', 'plus_code': {'compound_code': 'VXX8+37 Haddonfield, NJ, USA', 'global_code': '87F6VXX8+37'}, 'rating': 4.7, 'reference': 'ChIJG8r1b3TMxokRK9kge5rVhDA', 'scope': 'GOOGLE', 'types': ['restaurant', 'food', 'point_of_interest', 'establishment'], 'user_ratings_total': 16, 'vicinity': '14 Tanner Street, Haddonfield'}, {'business_status': 'OPERATIONAL', 'geometry': {'location': {'lat': 39.8971997, 'lng': -75.0345328}, 'viewport': {'northeast': {'lat': 39.8984015802915, 'lng': -75.03306051970849}, 'southwest': {'lat': 39.89570361970851, 'lng': -75.0357584802915}}}, 'icon': 'https://maps.gstatic.com/mapfiles/place_api/icons/v1/png_71/restaurant-71.png', 'icon_background_color': '#FF9E67', 'icon_mask_base_uri': 'https://maps.gstatic.com/mapfiles/place_api/icons/v2/restaurant_pinlet', 'name': 'Crumb', 'opening_hours': {'open_now': True}, 'photos': [{'height': 3024, 'html_attributions': ['<a href=\"https://maps.google.com/maps/contrib/111798934259854755346\">Crumb</a>'], 'photo_reference': 'AUacShjTxutJwAnWr0BDqK5lC8DNT4p9hdWSM4saoirTaC5M2DcSuk_LutPzTuvTdzDurdNt9vb79uAw2qWF29FdZ67UNdjgeMOK8U6X7zoYWbCguV37Llvi7Gbz6RTkXl_sedtZbHdJKv2NEYJhIdRGKYCL7FX-i-RIxx8_MArPJScrCeG9', 'width': 4032}], 'place_id': 'ChIJOeg8SprNxokRYs33wZN6fsU', 'plus_code': {'compound_code': 'VXW8+V5 Haddonfield, NJ, USA', 'global_code': '87F6VXW8+V5'}, 'price_level': 2, 'rating': 4.8, 'reference': 'ChIJOeg8SprNxokRYs33wZN6fsU', 'scope': 'GOOGLE', 'types': ['restaurant', 'food', 'point_of_interest', 'establishment'], 'user_ratings_total': 94, 'vicinity': '43 Kings Highway East Store 2, Haddonfield'}, {'business_status': 'OPERATIONAL', 'geometry': {'location': {'lat': 39.8973961, 'lng': -75.0345328}, 'viewport': {'northeast': {'lat': 39.8987928802915, 'lng': -75.03336466970849}, 'southwest': {'lat': 39.8960949197085, 'lng': -75.0360626302915}}}, 'icon': 'https://maps.gstatic.com/mapfiles/place_api/icons/v1/png_71/restaurant-71.png', 'icon_background_color': '#FF9E67', 'icon_mask_base_uri': 'https://maps.gstatic.com/mapfiles/place_api/icons/v2/restaurant_pinlet', 'name': 'Little Tokyo', 'opening_hours': {'open_now': True}, 'photos': [{'height': 3024, 'html_attributions': ['<a href=\"https://maps.google.com/maps/contrib/112879890541956801494\">Mickey DeLorenzo</a>'], 'photo_reference': 'AUacShjX6JPpnGnSuyYw_9Ki-FO_c0ViHjNx9H5ApMtPBsErPA1GGHKkiSujO-wsdJB8mdOe35fb3mundkrmqwHqtwtfgw88CJDQJNZTsFoGHkmsDU5xp9q6oZIml6KHq49beUfHihw65y3s9vkJVIQwmc5Tc6t1TJqC3sXqm-bg7T3JxUlp', 'width': 4032}], 'place_id': 'ChIJ82pEumfNxokRhX-EN6omkjc', 'plus_code': {'compound_code': 'VXW8+X5 Haddonfield, NJ, USA', 'global_code': '87F6VXW8+X5'}, 'price_level': 2, 'rating': 4.4, 'reference': 'ChIJ82pEumfNxokRhX-EN6omkjc', 'scope': 'GOOGLE', 'types': ['restaurant', 'food', 'point_of_interest', 'establishment'], 'user_ratings_total': 29, 'vicinity': '49 Kings Highway East, Haddonfield'}, {'business_status': 'OPERATIONAL', 'geometry': {'location': {'lat': 39.89713039999999, 'lng': -75.0343046}, 'viewport': {'northeast': {'lat': 39.89839948029149, 'lng': -75.0328816197085}, 'southwest': {'lat': 39.8957015197085, 'lng': -75.03557958029151}}}, 'icon': 'https://maps.gstatic.com/mapfiles/place_api/icons/v1/png_71/restaurant-71.png', 'icon_background_color': '#FF9E67', 'icon_mask_base_uri': 'https://maps.gstatic.com/mapfiles/place_api/icons/v2/restaurant_pinlet', 'name': 'El Nopalito', 'opening_hours': {'open_now': True}, 'photos': [{'height': 609, 'html_attributions': ['<a href=\"https://maps.google.com/maps/contrib/105848674504673667626\">El Nopalito</a>'], 'photo_reference': 'AUacShhD38_34zHzHLysji_hk0t-sLGq-ELGhaPMzMGEfUtlUcKw_pI7ddN4wMPNwuRrPOC_Vi01QC_DHL7CaTGPEIx62qBqe4I7XG4CS3CkQ7G3UNio4boJ7nxDCSZaHQ5zIezGLmGH5Gid8IXJzfDwaStyLx5hTQctzLMEBRPPHn7elW39', 'width': 1080}], 'place_id': 'ChIJdegZ3QDNxokRui1aHidjZ5k', 'plus_code': {'compound_code': 'VXW8+V7 Haddonfield, NJ, USA', 'global_code': '87F6VXW8+V7'}, 'rating': 4.8, 'reference': 'ChIJdegZ3QDNxokRui1aHidjZ5k', 'scope': 'GOOGLE', 'types': ['restaurant', 'food', 'point_of_interest', 'establishment'], 'user_ratings_total': 332, 'vicinity': '47 Kings Highway East, Haddonfield'}, {'business_status': 'OPERATIONAL', 'geometry': {'location': {'lat': 39.9030693, 'lng': -75.03914209999999}, 'viewport': {'northeast': {'lat': 39.9043470302915, 'lng': -75.03788631970849}, 'southwest': {'lat': 39.9016490697085, 'lng': -75.0405842802915}}}, 'icon': 'https://maps.gstatic.com/mapfiles/place_api/icons/v1/png_71/restaurant-71.png', 'icon_background_color': '#FF9E67', 'icon_mask_base_uri': 'https://maps.gstatic.com/mapfiles/place_api/icons/v2/restaurant_pinlet', 'name': 'China King', 'opening_hours': {'open_now': True}, 'photos': [{'height': 3000, 'html_attributions': ['<a href=\"https://maps.google.com/maps/contrib/103805938964528020161\">Trev Smoove</a>'], 'photo_reference': 'AUacShh_RdKa_ie1UzOYD13xEkRSKzysK2RGLaGWkLUeA62zQv9wfMTGsvV_ZVsJh25z1MLW7weKYfGsP0tmOP3E8p8Z8xscDtfjEMr41_EcAGe5sBxqaqP7xVCl7hTSTIGeyc6XQmhjVcAdT2e6ewI7PPfLAUcem7r2kPvBhbTD4Kvvu-Md', 'width': 4000}], 'place_id': 'ChIJd8orOuvLxokR8uQUJ57jIEA', 'plus_code': {'compound_code': 'WX36+68 Haddonfield, NJ, USA', 'global_code': '87F6WX36+68'}, 'rating': 4.1, 'reference': 'ChIJd8orOuvLxokR8uQUJ57jIEA', 'scope': 'GOOGLE', 'types': ['restaurant', 'food', 'point_of_interest', 'establishment'], 'user_ratings_total': 35, 'vicinity': '401 North Haddon Avenue, Haddonfield'}, {'business_status': 'OPERATIONAL', 'geometry': {'location': {'lat': 39.9044065, 'lng': -75.0611831}, 'viewport': {'northeast': {'lat': 39.9057488302915, 'lng': -75.05978601970848}, 'southwest': {'lat': 39.9030508697085, 'lng': -75.06248398029149}}}, 'icon': 'https://maps.gstatic.com/mapfiles/place_api/icons/v1/png_71/restaurant-71.png', 'icon_background_color': '#FF9E67', 'icon_mask_base_uri': 'https://maps.gstatic.com/mapfiles/place_api/icons/v2/restaurant_pinlet', 'name': \"McDonald's\", 'opening_hours': {'open_now': True}, 'photos': [{'height': 1908, 'html_attributions': ['<a href=\"https://maps.google.com/maps/contrib/103805938964528020161\">Trev Smoove</a>'], 'photo_reference': 'AUacShjGd4GH4njWWk9OD32GD_CQ6qdfzTYGR8tKWrQRABcTrPS0HBxtzaIkUsiLv7NvQufC20ldum0xtwu7b3Q_uq-e9FPko5szMB0em0JgOcN-YeHBF04ysRDZbKnQJKb3F9HOLNFFxZeukXSzo5jRkCy4kd9brk63s6NHD9UQuoI4iVsE', 'width': 4032}], 'place_id': 'ChIJz-eLoarOxokRjVjj68MOcjM', 'plus_code': {'compound_code': 'WW3Q+QG Haddon Township, NJ, USA', 'global_code': '87F6WW3Q+QG'}, 'price_level': 1, 'rating': 3.6, 'reference': 'ChIJz-eLoarOxokRjVjj68MOcjM', 'scope': 'GOOGLE', 'types': ['cafe', 'restaurant', 'food', 'point_of_interest', 'store', 'establishment'], 'user_ratings_total': 803, 'vicinity': '566 West Cuthbert Boulevard, Haddon Township'}, {'business_status': 'OPERATIONAL', 'geometry': {'location': {'lat': 39.8971577, 'lng': -75.03421329999999}, 'viewport': {'northeast': {'lat': 39.8984273302915, 'lng': -75.03280766970848}, 'southwest': {'lat': 39.8957293697085, 'lng': -75.0355056302915}}}, 'icon': 'https://maps.gstatic.com/mapfiles/place_api/icons/v1/png_71/restaurant-71.png', 'icon_background_color': '#FF9E67', 'icon_mask_base_uri': 'https://maps.gstatic.com/mapfiles/place_api/icons/v2/restaurant_pinlet', 'name': 'Crust N Fire', 'opening_hours': {'open_now': True}, 'photos': [{'height': 3024, 'html_attributions': ['<a href=\"https://maps.google.com/maps/contrib/114848811691127580752\">Sam Poat</a>'], 'photo_reference': 'AUacShi37SzA1BMgQ_0O7Gilc-pCEUJcQtCDdKTk5ZhIG68sVyClFWnaCKcBEnYSJNFQL-TjUqC_ENzidXQIw5351Z_VPgc37cAUcEPvJM4Fqxvpv87m7eJdKQO4_o5xUNBNSeGd2kmK-dnDMDA25jm6LYARkgT03heP2177YZBVxtwYPjC_', 'width': 4032}], 'place_id': 'ChIJmYyUR4DNxokRiTPMPYZvtfM', 'plus_code': {'compound_code': 'VXW8+V8 Haddonfield, NJ, USA', 'global_code': '87F6VXW8+V8'}, 'price_level': 2, 'rating': 4.4, 'reference': 'ChIJmYyUR4DNxokRiTPMPYZvtfM', 'scope': 'GOOGLE', 'types': ['meal_takeaway', 'meal_delivery', 'restaurant', 'food', 'point_of_interest', 'establishment'], 'user_ratings_total': 114, 'vicinity': '51 Kings Highway East, Haddonfield'}, {'business_status': 'OPERATIONAL', 'geometry': {'location': {'lat': 39.89136500000001, 'lng': -75.06636499999999}, 'viewport': {'northeast': {'lat': 39.8928054302915, 'lng': -75.06484506970848}, 'southwest': {'lat': 39.8901074697085, 'lng': -75.06754303029149}}}, 'icon': 'https://maps.gstatic.com/mapfiles/place_api/icons/v1/png_71/restaurant-71.png', 'icon_background_color': '#FF9E67', 'icon_mask_base_uri': 'https://maps.gstatic.com/mapfiles/place_api/icons/v2/restaurant_pinlet', 'name': 'Great Taste of Audubon', 'opening_hours': {'open_now': True}, 'photos': [{'height': 2448, 'html_attributions': ['<a href=\"https://maps.google.com/maps/contrib/116440576845705023605\">Donald Maley</a>'], 'photo_reference': 'AUacShhApzmSYOJvcLGHMsphSFhU-mvMAAi_Rn-bfiFGQxyC8LfQQPXY1c5BSQhEJQz8v6__4qBC_IWxxeJF8dwmXoeyIadqwlmg_eudHfLYVby4Izu1yUP99FMBI_uLy-uI_RWtjkp5Prk5fJ_zmMy9keG6jpO4kE-Cxm2Y22pFF8Dq1z9z', 'width': 2448}], 'place_id': 'ChIJ6Vp1tKbOxokRbFeh04p59gw', 'plus_code': {'compound_code': 'VWRM+GF Audubon, NJ, USA', 'global_code': '87F6VWRM+GF'}, 'price_level': 1, 'rating': 4.1, 'reference': 'ChIJ6Vp1tKbOxokRbFeh04p59gw', 'scope': 'GOOGLE', 'types': ['meal_delivery', 'restaurant', 'food', 'point_of_interest', 'establishment'], 'user_ratings_total': 114, 'vicinity': '292 South White Horse Pike A, Audubon'}, {'business_status': 'OPERATIONAL', 'geometry': {'location': {'lat': 39.8976824, 'lng': -75.03427529999999}, 'viewport': {'northeast': {'lat': 39.8990658802915, 'lng': -75.03284421970848}, 'southwest': {'lat': 39.8963679197085, 'lng': -75.03554218029149}}}, 'icon': 'https://maps.gstatic.com/mapfiles/place_api/icons/v1/png_71/restaurant-71.png', 'icon_background_color': '#FF9E67', 'icon_mask_base_uri': 'https://maps.gstatic.com/mapfiles/place_api/icons/v2/restaurant_pinlet', 'name': \"Corson's Steaks\", 'opening_hours': {'open_now': True}, 'photos': [{'height': 608, 'html_attributions': ['<a href=\"https://maps.google.com/maps/contrib/110887953247535865907\">Kyle Freeman</a>'], 'photo_reference': 'AUacShh4wB-AFRQVaUPeSFTW8f81Sl9Dotr2WTmThU9dt-MSK31PPhxq8_cm-DMaguvwAw2XapTi5nTGpbE261Roqk1201FGfaudStta7H2D58iRIut62tiM0MdIkrcLAx2anvARUxlZxoMpG5iht9moIwyY5GXAo0BXef9kTQdbzSD90568', 'width': 1080}], 'place_id': 'ChIJu9WRjFDNxokRcxViJflscBA', 'plus_code': {'compound_code': 'VXX8+37 Haddonfield, NJ, USA', 'global_code': '87F6VXX8+37'}, 'rating': 4.2, 'reference': 'ChIJu9WRjFDNxokRcxViJflscBA', 'scope': 'GOOGLE', 'types': ['restaurant', 'food', 'point_of_interest', 'establishment'], 'user_ratings_total': 22, 'vicinity': '14 Tanner Street, Haddonfield'}, {'business_status': 'CLOSED_TEMPORARILY', 'geometry': {'location': {'lat': 39.8977465, 'lng': -75.03157139999999}, 'viewport': {'northeast': {'lat': 39.89923823029151, 'lng': -75.0303806197085}, 'southwest': {'lat': 39.89654026970851, 'lng': -75.0330785802915}}}, 'icon': 'https://maps.gstatic.com/mapfiles/place_api/icons/v1/png_71/restaurant-71.png', 'icon_background_color': '#FF9E67', 'icon_mask_base_uri': 'https://maps.gstatic.com/mapfiles/place_api/icons/v2/restaurant_pinlet', 'name': 'Cold Stone Creamery', 'permanently_closed': True, 'photos': [{'height': 1040, 'html_attributions': ['<a href=\"https://maps.google.com/maps/contrib/109173184526059177625\">Lucas Wonson</a>'], 'photo_reference': 'AUacShh9nNtPr5Tbk9sTD0k6ZSVR9nIDSmtnweQlAaDzxD5sMZ6IHn45tJAMY0xPDdZbP6VFFdt9JFN0X6c_20C4I_QahIK9f2Eyng7MEeAhoqmBDVsVc-J471XgVsKCOQVegPrdsx2JvZ-LZo3hyiAzxrYL5s_4eutGtvkF9kIWVIgg9zIh', 'width': 1260}], 'place_id': 'ChIJhwhKoXbMxokRtlawKnmIPbg', 'plus_code': {'compound_code': 'VXX9+39 Haddonfield, NJ, USA', 'global_code': '87F6VXX9+39'}, 'price_level': 1, 'rating': 3.8, 'reference': 'ChIJhwhKoXbMxokRtlawKnmIPbg', 'scope': 'GOOGLE', 'types': ['bakery', 'restaurant', 'food', 'point_of_interest', 'store', 'establishment'], 'user_ratings_total': 4, 'vicinity': '210 Kings Highway East, Haddonfield'}, {'business_status': 'OPERATIONAL', 'geometry': {'location': {'lat': 39.9057871, 'lng': -75.0436634}, 'viewport': {'northeast': {'lat': 39.9072791802915, 'lng': -75.04217466970849}, 'southwest': {'lat': 39.9045812197085, 'lng': -75.04487263029151}}}, 'icon': 'https://maps.gstatic.com/mapfiles/place_api/icons/v1/png_71/restaurant-71.png', 'icon_background_color': '#FF9E67', 'icon_mask_base_uri': 'https://maps.gstatic.com/mapfiles/place_api/icons/v2/restaurant_pinlet', 'name': 'Central Taco and Tequila', 'opening_hours': {'open_now': True}, 'photos': [{'height': 5184, 'html_attributions': ['<a href=\"https://maps.google.com/maps/contrib/102202833497938285039\">Central Taco and Tequila</a>'], 'photo_reference': 'AUacShgkSMzbpdqMqS35L8RcE-ywhoVh-G95AM_mX1O2NTVXSVqDvldKNS52h9Sdu1g8cnT6H3mOkhqnIkAyewODZlSuDhwhbwcUEJOTZIwoQ-W-y3Uc3RB_-35F1qwgo9HfIksJQxO_uawod1yXHNma8zhfvbDHRqDCVrfAdh4_mfXnqow9', 'width': 3456}], 'place_id': 'ChIJlw6KmLzLxokRd7WWLUUU2SI', 'plus_code': {'compound_code': 'WX44+8G Haddon Township, NJ, USA', 'global_code': '87F6WX44+8G'}, 'price_level': 2, 'rating': 4.1, 'reference': 'ChIJlw6KmLzLxokRd7WWLUUU2SI', 'scope': 'GOOGLE', 'types': ['restaurant', 'food', 'point_of_interest', 'establishment'], 'user_ratings_total': 1476, 'vicinity': '350 Haddon Avenue, Haddon Township'}, {'business_status': 'OPERATIONAL', 'geometry': {'location': {'lat': 39.8968366, 'lng': -75.0334146}, 'viewport': {'northeast': {'lat': 39.8980348802915, 'lng': -75.03190621970849}, 'southwest': {'lat': 39.8953369197085, 'lng': -75.0346041802915}}}, 'icon': 'https://maps.gstatic.com/mapfiles/place_api/icons/v1/png_71/restaurant-71.png', 'icon_background_color': '#FF9E67', 'icon_mask_base_uri': 'https://maps.gstatic.com/mapfiles/place_api/icons/v2/restaurant_pinlet', 'name': 'Wanda BYOB', 'opening_hours': {'open_now': False}, 'photos': [{'height': 3024, 'html_attributions': ['<a href=\"https://maps.google.com/maps/contrib/111983656058233182072\">Wanda BYOB</a>'], 'photo_reference': 'AUacShjpPhA3MNRsBZVi1ecDf2an8VD4-RUIoIrlE5ZbHlL0_Q8yjrjAKo3KQ1wa_QWMqhW3xiyc6ZBX8sB7eHl_MKuMnxPwB6yhoVdlK1qVUKoSBldkrghpOef91iXIwnGPBmSERhIpp36-JZ4o_tylFKr3dgJ0nXq73Wt3le96Ou4YDVhu', 'width': 3024}], 'place_id': 'ChIJhVOYiVDNxokRXgak3TmzTPc', 'plus_code': {'compound_code': 'VXW8+PJ Haddonfield, NJ, USA', 'global_code': '87F6VXW8+PJ'}, 'rating': 4.7, 'reference': 'ChIJhVOYiVDNxokRXgak3TmzTPc', 'scope': 'GOOGLE', 'types': ['restaurant', 'food', 'point_of_interest', 'establishment'], 'user_ratings_total': 107, 'vicinity': 'Inside The Shops at 116, 116 Kings Highway East Suite 4, Haddonfield'}, {'business_status': 'OPERATIONAL', 'geometry': {'location': {'lat': 39.89752699999999, 'lng': -75.03343749999999}, 'viewport': {'northeast': {'lat': 39.8988012802915, 'lng': -75.0320314697085}, 'southwest': {'lat': 39.8961033197085, 'lng': -75.0347294302915}}}, 'icon': 'https://maps.gstatic.com/mapfiles/place_api/icons/v1/png_71/restaurant-71.png', 'icon_background_color': '#FF9E67', 'icon_mask_base_uri': 'https://maps.gstatic.com/mapfiles/place_api/icons/v2/restaurant_pinlet', 'name': 'Gouldsburger’s', 'opening_hours': {'open_now': True}, 'photos': [{'height': 1868, 'html_attributions': ['<a href=\"https://maps.google.com/maps/contrib/107954307381749449167\">Robert “Will” Powell</a>'], 'photo_reference': 'AUacShjRKtaximFBPrEaGw8sfKshE5hoQNFW7l6mDC4dXgw-uT6HUGJgTMeCWT3PM_FJ2LP85NwHXvxAxhxpk5r1UAkgndDYN9P4E6N6Nz7WS3aXmxtaqawTQq-aoW_a10jGUU3xsgaIk8FLpjsfYh4kB03MbXM48F0RlgNF3tPSHf3l5r9b', 'width': 4000}], 'place_id': 'ChIJeTJ33SLNxokRfWG4jq_6zjo', 'plus_code': {'compound_code': 'VXX8+2J Haddonfield, NJ, USA', 'global_code': '87F6VXX8+2J'}, 'price_level': 2, 'rating': 4.3, 'reference': 'ChIJeTJ33SLNxokRfWG4jq_6zjo', 'scope': 'GOOGLE', 'types': ['restaurant', 'food', 'point_of_interest', 'establishment'], 'user_ratings_total': 38, 'vicinity': '109 Kings Highway East, Haddonfield'}, {'business_status': 'OPERATIONAL', 'geometry': {'location': {'lat': 39.88296289999999, 'lng': -75.0580346}, 'viewport': {'northeast': {'lat': 39.8842289802915, 'lng': -75.0565966197085}, 'southwest': {'lat': 39.8815310197085, 'lng': -75.0592945802915}}}, 'icon': 'https://maps.gstatic.com/mapfiles/place_api/icons/v1/png_71/restaurant-71.png', 'icon_background_color': '#FF9E67', 'icon_mask_base_uri': 'https://maps.gstatic.com/mapfiles/place_api/icons/v2/restaurant_pinlet', 'name': 'Simply Station Haddon Heights', 'opening_hours': {'open_now': False}, 'photos': [{'height': 3780, 'html_attributions': ['<a href=\"https://maps.google.com/maps/contrib/116978109480387149935\">Simply Station Haddon Heights</a>'], 'photo_reference': 'AUacShgS5YsM7er0t0VMHAjeiptPrOW0Y-IwyHmer1IuAR0M8QFxhmMFjx6e2GHsv8D1OBdwKebD37scrCSFsz47WzYbpROz3hxgC07ULzf8rPrSrej2SnER40YFNAWEY2zvzCeltbYX6iJ0LWOFUC9R86wtekly1ftItrTXhewLyxCXyoUC', 'width': 3024}], 'place_id': 'ChIJ_eMkwSzNxokRy-_Odm0uY9I', 'plus_code': {'compound_code': 'VWMR+5Q Haddon Heights, NJ, USA', 'global_code': '87F6VWMR+5Q'}, 'rating': 4.8, 'reference': 'ChIJ_eMkwSzNxokRy-_Odm0uY9I', 'scope': 'GOOGLE', 'types': ['cafe', 'restaurant', 'food', 'point_of_interest', 'establishment'], 'user_ratings_total': 4, 'vicinity': '517 Station Avenue, Haddon Heights'}, {'business_status': 'OPERATIONAL', 'geometry': {'location': {'lat': 39.8975681, 'lng': -75.0332438}, 'viewport': {'northeast': {'lat': 39.89885948029149, 'lng': -75.0318512697085}, 'southwest': {'lat': 39.8961615197085, 'lng': -75.0345492302915}}}, 'icon': 'https://maps.gstatic.com/mapfiles/place_api/icons/v1/png_71/restaurant-71.png', 'icon_background_color': '#FF9E67', 'icon_mask_base_uri': 'https://maps.gstatic.com/mapfiles/place_api/icons/v2/restaurant_pinlet', 'name': 'T-swirl Crepe', 'opening_hours': {'open_now': True}, 'photos': [{'height': 4032, 'html_attributions': ['<a href=\"https://maps.google.com/maps/contrib/103203494169251953143\">Korrine Rudderow</a>'], 'photo_reference': 'AUacShhDK1lFUMxaxw0__N4QlPMIVy66fdb07k3Wxmj9wEOKsdEdS5-lejgIv3kQ2LDXi4RfpxJQCxfgNCf2ZvmreBm7aMyLK5f--p_QVsjgXkqxo7ee2hxWGh3n-xCU1n60hZ93srz-prBseoMvU1lcRB2sxS0QqOYohjpstiFrq3ch7Dos', 'width': 3024}], 'place_id': 'ChIJw9WdqGbNxokRcGvdMK1NuSo', 'plus_code': {'compound_code': 'VXX8+2P Haddonfield, NJ, USA', 'global_code': '87F6VXX8+2P'}, 'price_level': 1, 'rating': 4.7, 'reference': 'ChIJw9WdqGbNxokRcGvdMK1NuSo', 'scope': 'GOOGLE', 'types': ['restaurant', 'food', 'point_of_interest', 'store', 'establishment'], 'user_ratings_total': 302, 'vicinity': '115 Kings Highway East, Haddonfield'}, {'business_status': 'OPERATIONAL', 'geometry': {'location': {'lat': 39.8979272, 'lng': -75.0317251}, 'viewport': {'northeast': {'lat': 39.8993285802915, 'lng': -75.0304574697085}, 'southwest': {'lat': 39.8966306197085, 'lng': -75.0331554302915}}}, 'icon': 'https://maps.gstatic.com/mapfiles/place_api/icons/v1/png_71/restaurant-71.png', 'icon_background_color': '#FF9E67', 'icon_mask_base_uri': 'https://maps.gstatic.com/mapfiles/place_api/icons/v2/restaurant_pinlet', 'name': 'Animo', 'opening_hours': {'open_now': True}, 'photos': [{'height': 900, 'html_attributions': ['<a href=\"https://maps.google.com/maps/contrib/109385708926798757953\">Animo</a>'], 'photo_reference': 'AUacShjendefAGBBf4hetMsFYx32Tv4BYH76JJQyT73KwhIiyyftsu8KCbj_SpXOtEHfOGx37fbtmhXOC2BP5sSQ4wa144HxFWyQlFxv88LGcx50EJ9OThi393lKHJ7g9wJnyEMR7INj_YiINCxUeaCet7pI74NepILoP0Rqq7QTaE9gDZBY', 'width': 1200}], 'place_id': 'ChIJkZY5bXTMxokRI5VNfX_FQVM', 'plus_code': {'compound_code': 'VXX9+58 Haddonfield, NJ, USA', 'global_code': '87F6VXX9+58'}, 'price_level': 2, 'rating': 4.2, 'reference': 'ChIJkZY5bXTMxokRI5VNfX_FQVM', 'scope': 'GOOGLE', 'types': ['restaurant', 'food', 'point_of_interest', 'establishment'], 'user_ratings_total': 165, 'vicinity': '210 Kings Highway East, Haddonfield'}], 'status': 'OK'}\n"
     ]
    }
   ],
   "source": [
    "url = 'https://maps.googleapis.com/maps/api/place/nearbysearch/json?'\n",
    "params = {\n",
    "    \"pagetoken\": page_token,\n",
    "    \"key\": maps_api_key}\n",
    "\n",
    "result = requests.post(url, params=params)\n",
    "print(result.status_code)\n",
    "print(result.json())"
   ]
  },
  {
   "cell_type": "code",
   "execution_count": 77,
   "id": "c8574107",
   "metadata": {},
   "outputs": [
    {
     "name": "stdout",
     "output_type": "stream",
     "text": [
      "['Toscana’s Pizzeria & Restaurant', 'Bamboo in Haddon', 'Westmont Diner', 'Mare Monte', 'Rent A Chef', 'Crumb', 'Little Tokyo', 'El Nopalito', 'China King', \"McDonald's\", 'Crust N Fire', 'Great Taste of Audubon', \"Corson's Steaks\", 'Cold Stone Creamery', 'Central Taco and Tequila', 'Wanda BYOB', 'Gouldsburger’s', 'Simply Station Haddon Heights', 'T-swirl Crepe', 'Animo']\n"
     ]
    }
   ],
   "source": [
    "data = result.json()\n",
    "\n",
    "print([x['name'] for x in data['results']])"
   ]
  },
  {
   "cell_type": "code",
   "execution_count": 80,
   "id": "05b58bbd",
   "metadata": {},
   "outputs": [
    {
     "name": "stdout",
     "output_type": "stream",
     "text": [
      "200\n",
      "{'html_attributions': [], 'result': {'address_components': [{'long_name': '51', 'short_name': '51', 'types': ['street_number']}, {'long_name': 'Kings Highway', 'short_name': 'Kings Hwy', 'types': ['route']}, {'long_name': 'Audubon', 'short_name': 'Audubon', 'types': ['locality', 'political']}, {'long_name': 'Camden County', 'short_name': 'Camden County', 'types': ['administrative_area_level_2', 'political']}, {'long_name': 'New Jersey', 'short_name': 'NJ', 'types': ['administrative_area_level_1', 'political']}, {'long_name': 'United States', 'short_name': 'US', 'types': ['country', 'political']}, {'long_name': '08106', 'short_name': '08106', 'types': ['postal_code']}], 'adr_address': '<span class=\"street-address\">51 Kings Hwy</span>, <span class=\"locality\">Audubon</span>, <span class=\"region\">NJ</span> <span class=\"postal-code\">08106</span>, <span class=\"country-name\">USA</span>', 'business_status': 'OPERATIONAL', 'curbside_pickup': True, 'current_opening_hours': {'open_now': True, 'periods': [{'close': {'date': '2023-08-27', 'day': 0, 'time': '2200'}, 'open': {'date': '2023-08-27', 'day': 0, 'time': '1100'}}, {'close': {'date': '2023-08-28', 'day': 1, 'time': '2200'}, 'open': {'date': '2023-08-28', 'day': 1, 'time': '1000'}}, {'close': {'date': '2023-08-29', 'day': 2, 'time': '2200'}, 'open': {'date': '2023-08-29', 'day': 2, 'time': '1000'}}, {'close': {'date': '2023-08-30', 'day': 3, 'time': '2200'}, 'open': {'date': '2023-08-30', 'day': 3, 'time': '1030'}}, {'close': {'date': '2023-08-31', 'day': 4, 'time': '2130'}, 'open': {'date': '2023-08-31', 'day': 4, 'time': '1000'}}, {'close': {'date': '2023-08-25', 'day': 5, 'time': '2200'}, 'open': {'date': '2023-08-25', 'day': 5, 'time': '1030'}}, {'close': {'date': '2023-08-26', 'day': 6, 'time': '2200'}, 'open': {'date': '2023-08-26', 'day': 6, 'time': '1030'}}], 'weekday_text': ['Monday: 10:00\\u202fAM\\u2009–\\u200910:00\\u202fPM', 'Tuesday: 10:00\\u202fAM\\u2009–\\u200910:00\\u202fPM', 'Wednesday: 10:30\\u202fAM\\u2009–\\u200910:00\\u202fPM', 'Thursday: 10:00\\u202fAM\\u2009–\\u20099:30\\u202fPM', 'Friday: 10:30\\u202fAM\\u2009–\\u200910:00\\u202fPM', 'Saturday: 10:30\\u202fAM\\u2009–\\u200910:00\\u202fPM', 'Sunday: 11:00\\u202fAM\\u2009–\\u200910:00\\u202fPM']}, 'delivery': True, 'dine_in': True, 'formatted_address': '51 Kings Hwy, Audubon, NJ 08106, USA', 'formatted_phone_number': '(856) 310-0940', 'geometry': {'location': {'lat': 39.887395, 'lng': -75.0586874}, 'viewport': {'northeast': {'lat': 39.8886609302915, 'lng': -75.05729376970851}, 'southwest': {'lat': 39.8859629697085, 'lng': -75.05999173029151}}}, 'icon': 'https://maps.gstatic.com/mapfiles/place_api/icons/v1/png_71/restaurant-71.png', 'icon_background_color': '#FF9E67', 'icon_mask_base_uri': 'https://maps.gstatic.com/mapfiles/place_api/icons/v2/restaurant_pinlet', 'international_phone_number': '+1 856-310-0940', 'name': 'Toscana’s Pizzeria & Restaurant', 'opening_hours': {'open_now': True, 'periods': [{'close': {'day': 0, 'time': '2200'}, 'open': {'day': 0, 'time': '1100'}}, {'close': {'day': 1, 'time': '2200'}, 'open': {'day': 1, 'time': '1000'}}, {'close': {'day': 2, 'time': '2200'}, 'open': {'day': 2, 'time': '1000'}}, {'close': {'day': 3, 'time': '2200'}, 'open': {'day': 3, 'time': '1030'}}, {'close': {'day': 4, 'time': '2130'}, 'open': {'day': 4, 'time': '1000'}}, {'close': {'day': 5, 'time': '2200'}, 'open': {'day': 5, 'time': '1030'}}, {'close': {'day': 6, 'time': '2200'}, 'open': {'day': 6, 'time': '1030'}}], 'weekday_text': ['Monday: 10:00\\u202fAM\\u2009–\\u200910:00\\u202fPM', 'Tuesday: 10:00\\u202fAM\\u2009–\\u200910:00\\u202fPM', 'Wednesday: 10:30\\u202fAM\\u2009–\\u200910:00\\u202fPM', 'Thursday: 10:00\\u202fAM\\u2009–\\u20099:30\\u202fPM', 'Friday: 10:30\\u202fAM\\u2009–\\u200910:00\\u202fPM', 'Saturday: 10:30\\u202fAM\\u2009–\\u200910:00\\u202fPM', 'Sunday: 11:00\\u202fAM\\u2009–\\u200910:00\\u202fPM']}, 'photos': [{'height': 2988, 'html_attributions': ['<a href=\"https://maps.google.com/maps/contrib/103449008057299996159\">Rudy Acevedo</a>'], 'photo_reference': 'AUacShhK5bWP1M0ADGyfw5sA3xqravNj-mqCo590ugVhmhCBhJdWtKsysMcGiS1jtBabzJn68AZWMVLk2ahbH64wqomSVNBNR1Kre2-0ZLDdQc5mQMZjCJHCfnolVd68nyl-pynq9QI4-ArPDSGYyJwMdBSuhEZIi36CgCdcJASiTmOdnla5', 'width': 5312}, {'height': 4032, 'html_attributions': ['<a href=\"https://maps.google.com/maps/contrib/103449008057299996159\">Rudy Acevedo</a>'], 'photo_reference': 'AUacShhStUsciY4qWNe_FRgNG5yH2CmMr0HIi_1nYNF1qEfa3Rk3TBIFfrFj3t2dcDx0JNaWOsNHpJdFXrb94r9jtROhFRCk2y3bl-AgY4XNhSi9tbm4Ak6-12sjbM94fEjwwCKgJUyBvU6Wl4f2eeHAdzG5alU7WeTqkLWezLfA8Bs0kdHe', 'width': 3024}, {'height': 4032, 'html_attributions': ['<a href=\"https://maps.google.com/maps/contrib/102712136827837622808\">Austin R</a>'], 'photo_reference': 'AUacShh-dmWtz5nL1Dkq_S5OeNWMxPOlUbkdvzGGzUf1wa0rCinbqQd5Y2OQ4ZVmmGEmnlPijllkNEQJB1u_sYhqdLBjNsr0jfzcKEbrOZvdZ8NvejKxyU4ahEk05bsouqF-qTe-R2QqeN6xOacsIW-TYVxnrzdSLIhh-qSg5coKEncMu9cN', 'width': 3024}, {'height': 2992, 'html_attributions': ['<a href=\"https://maps.google.com/maps/contrib/103805938964528020161\">Trev Smoove</a>'], 'photo_reference': 'AUacShi2rvNEwng2kJBG_YodMBxszFFKainAxcIuiEQKOA4Z86LMCotEoxRytyHTDTLMvMJ_9GZU3uax64HXKTG0HsLoo9aaZaQ4xC5iaA7cWdgQf7M3xalMgIO6LZxjSn33Hj99vayDPqXY44Q29WqVgixT1_9nh0yLSKtvN6FvZ2Cw6SRB', 'width': 2992}, {'height': 4032, 'html_attributions': ['<a href=\"https://maps.google.com/maps/contrib/103449008057299996159\">Rudy Acevedo</a>'], 'photo_reference': 'AUacShgw2Hv7NuFoXHKQ8kYmTRxM0Aq3wBt_d0kwoFJecm2wnSd8ghTtO43LBL5aHfEGknAgXK8xuuZiAKTHfHpvZs4yuW1WX6i7WXrfsgZGsLbEnf2Hqy-byJU3m8GqT_ALyE0VU8CwWU0QamUSvNzGVDlkV78j6PverFcFrmVktOjdomy0', 'width': 3024}, {'height': 4032, 'html_attributions': ['<a href=\"https://maps.google.com/maps/contrib/103449008057299996159\">Rudy Acevedo</a>'], 'photo_reference': 'AUacShjhUAVLg6lGVej60DYjokHfRGsqYPSJO1hccrcq1I3KnyctANPGOgWkeGKK3QqD5YWdym9OF0oFgd4QPYXYnyqMnsmswRPJ7NMRi9en3RcdPnl2ZiAVp1MN4-1b_DkAv9kBsuIJ7VOshnDA9oMEkZpw74GTpKoaGO0fF4lyPZ6ox8iw', 'width': 3024}, {'height': 4032, 'html_attributions': ['<a href=\"https://maps.google.com/maps/contrib/103449008057299996159\">Rudy Acevedo</a>'], 'photo_reference': 'AUacShixluUoMYkjk2sA2J_DBcfjkZTGSdLNVd1ACQYa1E9rPMhju0lsfdaOOBlr_eIAA89Kh-Zq9n4QBdmdG4N1GzcwJJjjBKmKMZbnod8aifpGhWV53I0enWzN1snS7eYhS8Ug0mGTOMIbPZoSBcUAFRxIwypnhAGFV2KdOrnYUpvLSjeO', 'width': 3024}, {'height': 4032, 'html_attributions': ['<a href=\"https://maps.google.com/maps/contrib/103449008057299996159\">Rudy Acevedo</a>'], 'photo_reference': 'AUacShihZ1At4H5aZ-FhlZWfgDkx5iAZZp6FONolHGx5l447YkApiomUdmbjrtXA3zfW2HHcMi_DgMIfV4NTJBc-45V-OP61Vwmi2Gs31VkxYDcTHQ-tw7ZzZIhNawZKos-PLACPN4TF98TZgh4eHJiFxFYliEfmPbBWJFjdO7B9mnnrC81s', 'width': 3024}, {'height': 4032, 'html_attributions': ['<a href=\"https://maps.google.com/maps/contrib/103449008057299996159\">Rudy Acevedo</a>'], 'photo_reference': 'AUacShh3h5OzC54QRiHwIi-D2M-darplDehUDX-RvqCkLFx9cnJNbIRdSBwucINTGZe2jhCFgUW3PXi3AwNVF4WT3PEjtTWeNpl3BMcsVFRaApUWDnVTIgnxh10J119dCupcugZCWehWH7dDt_WQ9MRzagVi9t-JEPlFnVAwB5qcqjuhnHh_', 'width': 3024}, {'height': 4032, 'html_attributions': ['<a href=\"https://maps.google.com/maps/contrib/103449008057299996159\">Rudy Acevedo</a>'], 'photo_reference': 'AUacShi331rxwTnd0tVNVd1LebNujbyGtf3WMKYW-2f8Y23iDY7glyYJx58t6_iaT9Bn-hkF9yPtX7qRD0D_J3OgVe_qw8xnM2hPkgBx8GM19_xQW1TDWm6fHk9gBh59uU5f_OLdzATqem5gVH1tmE4iMO5jeKeMpfb6d8zjaFJiXBk-fi06', 'width': 3024}], 'place_id': 'ChIJrXiirh_MxokRkDWMshlALFk', 'plus_code': {'compound_code': 'VWPR+XG Audubon, NJ, USA', 'global_code': '87F6VWPR+XG'}, 'price_level': 1, 'rating': 4.3, 'reference': 'ChIJrXiirh_MxokRkDWMshlALFk', 'reviews': [{'author_name': 'Austin R', 'author_url': 'https://www.google.com/maps/contrib/102712136827837622808/reviews', 'language': 'en', 'original_language': 'en', 'profile_photo_url': 'https://lh3.googleusercontent.com/a/AAcHTtcZGmNymD8gbDdWqweJ5LC7YyUuYeshg2IZCQAqew6pows=s128-c0x00000000-cc-rp-mo', 'rating': 5, 'relative_time_description': '2 months ago', 'text': '5 star Above and beyond chicken parm pizza super delicious with the smart water pineapple kiwi service was off the hook to great place.I will be enjoying many more pizzas from here', 'time': 1685755590, 'translated': False}, {'author_name': 'Shawn Donlon', 'author_url': 'https://www.google.com/maps/contrib/100260111740518027979/reviews', 'language': 'en', 'original_language': 'en', 'profile_photo_url': 'https://lh3.googleusercontent.com/a-/AD_cMMTaQHP2AIzF0YBFMQh1oGzgyAmyTT50GKyFsvwSfIvJDQ=s128-c0x00000000-cc-rp-mo', 'rating': 5, 'relative_time_description': 'in the last week', 'text': 'Hands down best food in the area. From top to bottom, the food is delicious. Owners are very friendly and always welcoming. This place is a weekly dining for our family.', 'time': 1692856199, 'translated': False}, {'author_name': 'Laura Mcfadden', 'author_url': 'https://www.google.com/maps/contrib/118173591399162864442/reviews', 'language': 'en', 'original_language': 'en', 'profile_photo_url': 'https://lh3.googleusercontent.com/a-/AD_cMMRbosGE_iLqWMMCkL-Cwa6O0rLDxDfPZE2uRwSZ_sglRsY=s128-c0x00000000-cc-rp-mo', 'rating': 1, 'relative_time_description': 'a year ago', 'text': 'Delivery driver never knocked on the door left the food outside...lied and said I never answered my phone that was in my hand. Box the pizza came in was damaged and when I called to complain I was called a liar. Will never order from this place ever again they are beyond rude', 'time': 1659220288, 'translated': False}, {'author_name': 'Sean Harris', 'author_url': 'https://www.google.com/maps/contrib/115284137187956817942/reviews', 'language': 'en', 'original_language': 'en', 'profile_photo_url': 'https://lh3.googleusercontent.com/a/AAcHTtfrqJyPFaQYK25UxXaG6N_09WOCqsAnxjlVhRQtm-_o=s128-c0x00000000-cc-rp-mo', 'rating': 1, 'relative_time_description': 'a month ago', 'text': 'Ordered from this place and never even received my food, called multiple times and no one ever answered. Will not be ordering from this place again terrible service.', 'time': 1689644898, 'translated': False}, {'author_name': 'Angelia Taylor', 'author_url': 'https://www.google.com/maps/contrib/109300687464215258577/reviews', 'language': 'en', 'original_language': 'en', 'profile_photo_url': 'https://lh3.googleusercontent.com/a-/AD_cMMT1UFFZt0EtEIv2mw7czOe7zEaQsNRih77LRdTzPLPsNqGf=s128-c0x00000000-cc-rp-mo-ba3', 'rating': 1, 'relative_time_description': '7 months ago', 'text': 'Ordered a buffalo chicken wrap. It says on the menu it has chicken and cheese. When I got it, there was lettuce and tomato which my wife is allergic to (tomato). When I called, they said I would have to pay for a new one. We have been ordering from here for years but will be going elsewhere from now on. Not worth wasting my money.', 'time': 1673736855, 'translated': False}], 'secondary_opening_hours': [{'open_now': True, 'periods': [{'close': {'date': '2023-08-27', 'day': 0, 'time': '2040'}, 'open': {'date': '2023-08-27', 'day': 0, 'time': '1100'}}, {'close': {'date': '2023-08-28', 'day': 1, 'time': '2040'}, 'open': {'date': '2023-08-28', 'day': 1, 'time': '1030'}}, {'close': {'date': '2023-08-29', 'day': 2, 'time': '2040'}, 'open': {'date': '2023-08-29', 'day': 2, 'time': '1030'}}, {'close': {'date': '2023-08-30', 'day': 3, 'time': '2040'}, 'open': {'date': '2023-08-30', 'day': 3, 'time': '1030'}}, {'close': {'date': '2023-08-31', 'day': 4, 'time': '2040'}, 'open': {'date': '2023-08-31', 'day': 4, 'time': '1030'}}, {'close': {'date': '2023-08-25', 'day': 5, 'time': '2140'}, 'open': {'date': '2023-08-25', 'day': 5, 'time': '1030'}}, {'close': {'date': '2023-08-26', 'day': 6, 'time': '2140'}, 'open': {'date': '2023-08-26', 'day': 6, 'time': '1030'}}], 'type': 'DELIVERY', 'weekday_text': ['Monday: 10:30\\u202fAM\\u2009–\\u20098:40\\u202fPM', 'Tuesday: 10:30\\u202fAM\\u2009–\\u20098:40\\u202fPM', 'Wednesday: 10:30\\u202fAM\\u2009–\\u20098:40\\u202fPM', 'Thursday: 10:30\\u202fAM\\u2009–\\u20098:40\\u202fPM', 'Friday: 10:30\\u202fAM\\u2009–\\u20099:40\\u202fPM', 'Saturday: 10:30\\u202fAM\\u2009–\\u20099:40\\u202fPM', 'Sunday: 11:00\\u202fAM\\u2009–\\u20098:40\\u202fPM']}, {'open_now': True, 'periods': [{'close': {'date': '2023-08-27', 'day': 0, 'time': '2040'}, 'open': {'date': '2023-08-27', 'day': 0, 'time': '1100'}}, {'close': {'date': '2023-08-28', 'day': 1, 'time': '2040'}, 'open': {'date': '2023-08-28', 'day': 1, 'time': '1030'}}, {'close': {'date': '2023-08-29', 'day': 2, 'time': '2040'}, 'open': {'date': '2023-08-29', 'day': 2, 'time': '1030'}}, {'close': {'date': '2023-08-30', 'day': 3, 'time': '2040'}, 'open': {'date': '2023-08-30', 'day': 3, 'time': '1030'}}, {'close': {'date': '2023-08-31', 'day': 4, 'time': '2040'}, 'open': {'date': '2023-08-31', 'day': 4, 'time': '1030'}}, {'close': {'date': '2023-08-25', 'day': 5, 'time': '2140'}, 'open': {'date': '2023-08-25', 'day': 5, 'time': '1030'}}, {'close': {'date': '2023-08-26', 'day': 6, 'time': '2140'}, 'open': {'date': '2023-08-26', 'day': 6, 'time': '1030'}}], 'type': 'TAKEOUT', 'weekday_text': ['Monday: 10:30\\u202fAM\\u2009–\\u20098:40\\u202fPM', 'Tuesday: 10:30\\u202fAM\\u2009–\\u20098:40\\u202fPM', 'Wednesday: 10:30\\u202fAM\\u2009–\\u20098:40\\u202fPM', 'Thursday: 10:30\\u202fAM\\u2009–\\u20098:40\\u202fPM', 'Friday: 10:30\\u202fAM\\u2009–\\u20099:40\\u202fPM', 'Saturday: 10:30\\u202fAM\\u2009–\\u20099:40\\u202fPM', 'Sunday: 11:00\\u202fAM\\u2009–\\u20098:40\\u202fPM']}], 'serves_beer': False, 'serves_brunch': False, 'serves_dinner': True, 'serves_lunch': True, 'serves_wine': False, 'takeout': True, 'types': ['meal_delivery', 'restaurant', 'food', 'point_of_interest', 'establishment'], 'url': 'https://maps.google.com/?cid=6425581247464748432', 'user_ratings_total': 155, 'utc_offset': -240, 'vicinity': '51 Kings Highway, Audubon', 'website': 'https://toscanaspizza.com/', 'wheelchair_accessible_entrance': True}, 'status': 'OK'}\n"
     ]
    }
   ],
   "source": [
    "# Get place details\n",
    "place_id = data['results'][0]['place_id']\n",
    "\n",
    "url = 'https://maps.googleapis.com/maps/api/place/details/json?'\n",
    "params = {\n",
    "    \"place_id\": place_id,\n",
    "    \"key\": maps_api_key}\n",
    "\n",
    "result = requests.post(url, params=params)\n",
    "print(result.status_code)\n",
    "print(result.json())"
   ]
  },
  {
   "cell_type": "code",
   "execution_count": 81,
   "id": "8abe92f3",
   "metadata": {},
   "outputs": [],
   "source": [
    "data = result.json()"
   ]
  },
  {
   "cell_type": "code",
   "execution_count": 91,
   "id": "b72642b8",
   "metadata": {},
   "outputs": [
    {
     "data": {
      "text/plain": [
       "dict_keys(['address_components', 'adr_address', 'business_status', 'curbside_pickup', 'current_opening_hours', 'delivery', 'dine_in', 'formatted_address', 'formatted_phone_number', 'geometry', 'icon', 'icon_background_color', 'icon_mask_base_uri', 'international_phone_number', 'name', 'opening_hours', 'photos', 'place_id', 'plus_code', 'price_level', 'rating', 'reference', 'reviews', 'secondary_opening_hours', 'serves_beer', 'serves_brunch', 'serves_dinner', 'serves_lunch', 'serves_wine', 'takeout', 'types', 'url', 'user_ratings_total', 'utc_offset', 'vicinity', 'website', 'wheelchair_accessible_entrance'])"
      ]
     },
     "execution_count": 91,
     "metadata": {},
     "output_type": "execute_result"
    }
   ],
   "source": [
    "data['result'].keys()"
   ]
  },
  {
   "cell_type": "code",
   "execution_count": 92,
   "id": "4918c6e3",
   "metadata": {},
   "outputs": [
    {
     "data": {
      "text/plain": [
       "[{'author_name': 'Austin R',\n",
       "  'author_url': 'https://www.google.com/maps/contrib/102712136827837622808/reviews',\n",
       "  'language': 'en',\n",
       "  'original_language': 'en',\n",
       "  'profile_photo_url': 'https://lh3.googleusercontent.com/a/AAcHTtcZGmNymD8gbDdWqweJ5LC7YyUuYeshg2IZCQAqew6pows=s128-c0x00000000-cc-rp-mo',\n",
       "  'rating': 5,\n",
       "  'relative_time_description': '2 months ago',\n",
       "  'text': '5 star Above and beyond chicken parm pizza super delicious with the smart water pineapple kiwi service was off the hook to great place.I will be enjoying many more pizzas from here',\n",
       "  'time': 1685755590,\n",
       "  'translated': False},\n",
       " {'author_name': 'Shawn Donlon',\n",
       "  'author_url': 'https://www.google.com/maps/contrib/100260111740518027979/reviews',\n",
       "  'language': 'en',\n",
       "  'original_language': 'en',\n",
       "  'profile_photo_url': 'https://lh3.googleusercontent.com/a-/AD_cMMTaQHP2AIzF0YBFMQh1oGzgyAmyTT50GKyFsvwSfIvJDQ=s128-c0x00000000-cc-rp-mo',\n",
       "  'rating': 5,\n",
       "  'relative_time_description': 'in the last week',\n",
       "  'text': 'Hands down best food in the area. From top to bottom, the food is delicious. Owners are very friendly and always welcoming. This place is a weekly dining for our family.',\n",
       "  'time': 1692856199,\n",
       "  'translated': False},\n",
       " {'author_name': 'Laura Mcfadden',\n",
       "  'author_url': 'https://www.google.com/maps/contrib/118173591399162864442/reviews',\n",
       "  'language': 'en',\n",
       "  'original_language': 'en',\n",
       "  'profile_photo_url': 'https://lh3.googleusercontent.com/a-/AD_cMMRbosGE_iLqWMMCkL-Cwa6O0rLDxDfPZE2uRwSZ_sglRsY=s128-c0x00000000-cc-rp-mo',\n",
       "  'rating': 1,\n",
       "  'relative_time_description': 'a year ago',\n",
       "  'text': 'Delivery driver never knocked on the door left the food outside...lied and said I never answered my phone that was in my hand. Box the pizza came in was damaged and when I called to complain I was called a liar. Will never order from this place ever again they are beyond rude',\n",
       "  'time': 1659220288,\n",
       "  'translated': False},\n",
       " {'author_name': 'Sean Harris',\n",
       "  'author_url': 'https://www.google.com/maps/contrib/115284137187956817942/reviews',\n",
       "  'language': 'en',\n",
       "  'original_language': 'en',\n",
       "  'profile_photo_url': 'https://lh3.googleusercontent.com/a/AAcHTtfrqJyPFaQYK25UxXaG6N_09WOCqsAnxjlVhRQtm-_o=s128-c0x00000000-cc-rp-mo',\n",
       "  'rating': 1,\n",
       "  'relative_time_description': 'a month ago',\n",
       "  'text': 'Ordered from this place and never even received my food, called multiple times and no one ever answered. Will not be ordering from this place again terrible service.',\n",
       "  'time': 1689644898,\n",
       "  'translated': False},\n",
       " {'author_name': 'Angelia Taylor',\n",
       "  'author_url': 'https://www.google.com/maps/contrib/109300687464215258577/reviews',\n",
       "  'language': 'en',\n",
       "  'original_language': 'en',\n",
       "  'profile_photo_url': 'https://lh3.googleusercontent.com/a-/AD_cMMT1UFFZt0EtEIv2mw7czOe7zEaQsNRih77LRdTzPLPsNqGf=s128-c0x00000000-cc-rp-mo-ba3',\n",
       "  'rating': 1,\n",
       "  'relative_time_description': '7 months ago',\n",
       "  'text': 'Ordered a buffalo chicken wrap. It says on the menu it has chicken and cheese. When I got it, there was lettuce and tomato which my wife is allergic to (tomato). When I called, they said I would have to pay for a new one. We have been ordering from here for years but will be going elsewhere from now on. Not worth wasting my money.',\n",
       "  'time': 1673736855,\n",
       "  'translated': False}]"
      ]
     },
     "execution_count": 92,
     "metadata": {},
     "output_type": "execute_result"
    }
   ],
   "source": [
    "# Top 5 results only\n",
    "data['result']['reviews']"
   ]
  },
  {
   "cell_type": "markdown",
   "id": "d48eb5d4",
   "metadata": {},
   "source": [
    "### Test reading CSV data"
   ]
  },
  {
   "cell_type": "code",
   "execution_count": 118,
   "id": "a1cf8ea0",
   "metadata": {},
   "outputs": [],
   "source": [
    "import pandas as pd\n",
    "\n",
    "ATLAS_CSV_PATH = r'..\\OriginalData\\2019 Food Access Research Atlas Data/Food Access Research Atlas.csv'\n",
    "CDC_CSV_PATH = r'..\\OriginalData\\PLACES__Local_Data_for_Better_Health__Census_Tract_Data_2023_release.csv'\n",
    "\n",
    "df_atlas = pd.read_csv(ATLAS_CSV_PATH)\n",
    "df_cdc = pd.read_csv(CDC_CSV_PATH)"
   ]
  },
  {
   "cell_type": "code",
   "execution_count": 119,
   "id": "8695d379",
   "metadata": {},
   "outputs": [
    {
     "data": {
      "text/plain": [
       "Index(['CensusTract', 'State', 'County', 'Urban', 'Pop2010', 'OHU2010',\n",
       "       'GroupQuartersFlag', 'NUMGQTRS', 'PCTGQTRS', 'LILATracts_1And10',\n",
       "       ...\n",
       "       'TractSeniors', 'TractWhite', 'TractBlack', 'TractAsian', 'TractNHOPI',\n",
       "       'TractAIAN', 'TractOMultir', 'TractHispanic', 'TractHUNV', 'TractSNAP'],\n",
       "      dtype='object', length=147)"
      ]
     },
     "execution_count": 119,
     "metadata": {},
     "output_type": "execute_result"
    }
   ],
   "source": [
    "# df_atlas['State']\n",
    "# df_atlas['County']\n",
    "# df_atlas['CensusTract']\n",
    "# df_atlas['LILATracts_1And10']\n"
   ]
  },
  {
   "cell_type": "code",
   "execution_count": 121,
   "id": "a71069bc",
   "metadata": {},
   "outputs": [
    {
     "data": {
      "text/plain": [
       "Index(['Year', 'StateAbbr', 'StateDesc', 'CountyName', 'CountyFIPS',\n",
       "       'LocationName', 'DataSource', 'Category', 'Measure', 'Data_Value_Unit',\n",
       "       'Data_Value_Type', 'Data_Value', 'Data_Value_Footnote_Symbol',\n",
       "       'Data_Value_Footnote', 'Low_Confidence_Limit', 'High_Confidence_Limit',\n",
       "       'TotalPopulation', 'Geolocation', 'LocationID', 'CategoryID',\n",
       "       'MeasureId', 'DataValueTypeID', 'Short_Question_Text'],\n",
       "      dtype='object')"
      ]
     },
     "execution_count": 121,
     "metadata": {},
     "output_type": "execute_result"
    }
   ],
   "source": [
    "# df_cdc['LocationID']\n",
    "# df_cdc['Geolocation']"
   ]
  },
  {
   "cell_type": "code",
   "execution_count": null,
   "id": "47cacbc3",
   "metadata": {},
   "outputs": [],
   "source": [
    "import re"
   ]
  },
  {
   "cell_type": "code",
   "execution_count": 141,
   "id": "6453eee7",
   "metadata": {},
   "outputs": [
    {
     "name": "stdout",
     "output_type": "stream",
     "text": [
      "-87.87730464\n"
     ]
    }
   ],
   "source": [
    "my_str = df_cdc['Geolocation'][0]\n",
    "latitude = re.findall('(?<=\\()[-]*[\\d.]*', my_str)[0]\n",
    "print(latitude)"
   ]
  },
  {
   "cell_type": "code",
   "execution_count": 142,
   "id": "cb4fafbb",
   "metadata": {},
   "outputs": [
    {
     "name": "stdout",
     "output_type": "stream",
     "text": [
      "30.43411562\n"
     ]
    }
   ],
   "source": [
    "longitude = re.findall('([-]*[\\d.]*)(?=\\))', my_str)[0]\n",
    "print(longitude)"
   ]
  },
  {
   "cell_type": "code",
   "execution_count": 136,
   "id": "512238ce",
   "metadata": {},
   "outputs": [
    {
     "data": {
      "text/plain": [
       "'POINT (-87.87730464 30.43411562)'"
      ]
     },
     "execution_count": 136,
     "metadata": {},
     "output_type": "execute_result"
    }
   ],
   "source": []
  },
  {
   "cell_type": "code",
   "execution_count": null,
   "id": "e0a65e55",
   "metadata": {},
   "outputs": [],
   "source": []
  }
 ],
 "metadata": {
  "kernelspec": {
   "display_name": "Python 3",
   "language": "python",
   "name": "python3"
  },
  "language_info": {
   "codemirror_mode": {
    "name": "ipython",
    "version": 3
   },
   "file_extension": ".py",
   "mimetype": "text/x-python",
   "name": "python",
   "nbconvert_exporter": "python",
   "pygments_lexer": "ipython3",
   "version": "3.8.15"
  }
 },
 "nbformat": 4,
 "nbformat_minor": 5
}
